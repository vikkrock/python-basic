{
  "cells": [
    {
      "cell_type": "markdown",
      "metadata": {
        "id": "view-in-github",
        "colab_type": "text"
      },
      "source": [
        "<a href=\"https://colab.research.google.com/github/vikkrock/python-basic/blob/main/1_3_operators.ipynb\" target=\"_parent\"><img src=\"https://colab.research.google.com/assets/colab-badge.svg\" alt=\"Open In Colab\"/></a>"
      ]
    },
    {
      "cell_type": "markdown",
      "metadata": {
        "id": "4x7ZCbpYgRXu"
      },
      "source": [
        "## Deep Dive into Operators"
      ]
    },
    {
      "cell_type": "markdown",
      "metadata": {
        "id": "hwUh52DugRX3"
      },
      "source": [
        "### Video Outline:\n",
        "1. Introduction to Operators\n",
        "2. Arithmetic Operators\n",
        "   - Addition\n",
        "   - Subtraction\n",
        "   - Multiplication\n",
        "   - Division\n",
        "   - Floor Division\n",
        "   - Modulus\n",
        "   - Exponentiation\n",
        "3. Comparison Operators\n",
        "   - Equal to\n",
        "   - Not equal to\n",
        "   - Greater than\n",
        "   - Less than\n",
        "   - Greater than or equal to\n",
        "   - Less than or equal to\n",
        "4. Logical Operators\n",
        "   - AND\n",
        "   - OR\n",
        "   - NOT\n",
        "5. Practical Examples and Common Errors"
      ]
    },
    {
      "cell_type": "code",
      "execution_count": null,
      "metadata": {
        "id": "f0cCwcW9gRX-",
        "outputId": "c40dd58c-ca5a-4b45-b70c-a395adf957e1"
      },
      "outputs": [
        {
          "name": "stdout",
          "output_type": "stream",
          "text": [
            "15\n",
            "5\n",
            "50\n",
            "2.0\n",
            "2\n",
            "0\n",
            "100000\n"
          ]
        }
      ],
      "source": [
        "## Arithmethic Operation\n",
        "\n",
        "a=10\n",
        "b = 5\n",
        "\n",
        "add_result=a+b  #addiiton\n",
        "sub_result=a-b  #substraction\n",
        "mult_result=a*b #multiplication\n",
        "div_result=a/b  #division\n",
        "floor_div_result=a//b ## floor division\n",
        "modulus_result=a%b #modulus operation\n",
        "\n",
        "exponent_result=a**b ## Exponentiation\n",
        "\n",
        "\n",
        "print(add_result)\n",
        "print(sub_result)\n",
        "print(mult_result)\n",
        "print(div_result)\n",
        "print(floor_div_result)\n",
        "print(modulus_result)\n",
        "print(exponent_result)\n",
        "\n"
      ]
    },
    {
      "cell_type": "code",
      "execution_count": null,
      "metadata": {
        "id": "2a4zFxQUgRYE",
        "outputId": "e6a20492-024f-4aee-a6a1-e813d4184555"
      },
      "outputs": [
        {
          "data": {
            "text/plain": [
              "2.0"
            ]
          },
          "execution_count": 5,
          "metadata": {},
          "output_type": "execute_result"
        }
      ],
      "source": [
        "10/5"
      ]
    },
    {
      "cell_type": "code",
      "execution_count": null,
      "metadata": {
        "id": "FvYKp2ldgRYG",
        "outputId": "e3ad3707-1a7d-4384-dc82-a5dd21dc9f86"
      },
      "outputs": [
        {
          "data": {
            "text/plain": [
              "4.2"
            ]
          },
          "execution_count": 6,
          "metadata": {},
          "output_type": "execute_result"
        }
      ],
      "source": [
        "21/5"
      ]
    },
    {
      "cell_type": "code",
      "execution_count": null,
      "metadata": {
        "id": "p_rfcchKgRYI",
        "outputId": "c46bb349-0bef-4cf0-c3be-e8d76fd529e6"
      },
      "outputs": [
        {
          "data": {
            "text/plain": [
              "4"
            ]
          },
          "execution_count": 7,
          "metadata": {},
          "output_type": "execute_result"
        }
      ],
      "source": [
        "21//5"
      ]
    },
    {
      "cell_type": "markdown",
      "metadata": {
        "id": "z3s9O5UngRYJ"
      },
      "source": [
        "#### Comparison Operators"
      ]
    },
    {
      "cell_type": "code",
      "execution_count": null,
      "metadata": {
        "id": "kqLR3dSRgRYL",
        "outputId": "4fc8347a-1a02-40c8-ad8a-7b391be7186a"
      },
      "outputs": [
        {
          "data": {
            "text/plain": [
              "True"
            ]
          },
          "execution_count": 8,
          "metadata": {},
          "output_type": "execute_result"
        }
      ],
      "source": [
        "## Comparison Operators\n",
        "## == Equal to\n",
        "a=10\n",
        "b=10\n",
        "\n",
        "a==b"
      ]
    },
    {
      "cell_type": "code",
      "execution_count": null,
      "metadata": {
        "id": "Ys1J8zrPgRYQ",
        "outputId": "6c19358a-0a2f-48e7-9cca-ae39f8f365e5"
      },
      "outputs": [
        {
          "data": {
            "text/plain": [
              "True"
            ]
          },
          "execution_count": 11,
          "metadata": {},
          "output_type": "execute_result"
        }
      ],
      "source": [
        "str1=\"Krish\"\n",
        "str2=\"Krish\"\n",
        "\n",
        "str1==str2"
      ]
    },
    {
      "cell_type": "code",
      "execution_count": null,
      "metadata": {
        "id": "Ms3JZtE8gRYT",
        "outputId": "ea5f101b-829f-4864-d182-ba669dd3c33e"
      },
      "outputs": [
        {
          "data": {
            "text/plain": [
              "False"
            ]
          },
          "execution_count": 12,
          "metadata": {},
          "output_type": "execute_result"
        }
      ],
      "source": [
        "## Not Equal to !=\n",
        "str1!=str2"
      ]
    },
    {
      "cell_type": "code",
      "execution_count": null,
      "metadata": {
        "id": "5QDPoflMgRYU",
        "outputId": "9ab3dbd6-0d3c-4320-91fc-489dcfe48a00"
      },
      "outputs": [
        {
          "data": {
            "text/plain": [
              "True"
            ]
          },
          "execution_count": 13,
          "metadata": {},
          "output_type": "execute_result"
        }
      ],
      "source": [
        "str3=\"Krish\"\n",
        "str4=\"krish\"\n",
        "\n",
        "str3!=str4"
      ]
    },
    {
      "cell_type": "code",
      "execution_count": null,
      "metadata": {
        "id": "9sdTMm_rgRYV",
        "outputId": "2d0655c9-f8d3-4c24-bad2-662a2a53f291"
      },
      "outputs": [
        {
          "data": {
            "text/plain": [
              "False"
            ]
          },
          "execution_count": 14,
          "metadata": {},
          "output_type": "execute_result"
        }
      ],
      "source": [
        "# greater than >\n",
        "\n",
        "num1=45\n",
        "num2=55\n",
        "\n",
        "num1>num2"
      ]
    },
    {
      "cell_type": "code",
      "execution_count": null,
      "metadata": {
        "id": "Zhhtm1r9gRYW",
        "outputId": "b0f2dd1d-6780-44db-b1d8-a2cb68b9e8e0"
      },
      "outputs": [
        {
          "name": "stdout",
          "output_type": "stream",
          "text": [
            "True\n"
          ]
        }
      ],
      "source": [
        "## less than <\n",
        "\n",
        "print(num1<num2)\n"
      ]
    },
    {
      "cell_type": "code",
      "execution_count": null,
      "metadata": {
        "id": "rw4kqHK0gRYX",
        "outputId": "01fbd63c-b2ff-4dfa-df2e-4730d62902c1"
      },
      "outputs": [
        {
          "name": "stdout",
          "output_type": "stream",
          "text": [
            "True\n"
          ]
        }
      ],
      "source": [
        "#greater than or equal to\n",
        "number1=45\n",
        "number2=45\n",
        "\n",
        "print(number1>=number2)\n"
      ]
    },
    {
      "cell_type": "code",
      "execution_count": null,
      "metadata": {
        "id": "hW8qWysegRYX",
        "outputId": "a9d8e601-7e87-44a0-cd21-9f074574873c"
      },
      "outputs": [
        {
          "name": "stdout",
          "output_type": "stream",
          "text": [
            "True\n"
          ]
        }
      ],
      "source": [
        "#less than or equal to\n",
        "number1=44\n",
        "number2=45\n",
        "\n",
        "print(number1<=number2)"
      ]
    },
    {
      "cell_type": "markdown",
      "metadata": {
        "id": "0WIRgBuwgRYY"
      },
      "source": [
        "#### Logical Operators"
      ]
    },
    {
      "cell_type": "code",
      "execution_count": null,
      "metadata": {
        "id": "ZfWkIehcgRYY",
        "outputId": "5c34ce6a-0deb-4d8b-a2ba-1ebd5b7add0a"
      },
      "outputs": [
        {
          "name": "stdout",
          "output_type": "stream",
          "text": [
            "True\n"
          ]
        }
      ],
      "source": [
        "## And ,Not,OR\n",
        "X=True\n",
        "Y=True\n",
        "\n",
        "result =X and Y\n",
        "print(result)\n"
      ]
    },
    {
      "cell_type": "code",
      "execution_count": null,
      "metadata": {
        "id": "Jx7sM0BHgRYZ",
        "outputId": "56457f00-76d9-439b-d417-0e030fbf1f35"
      },
      "outputs": [
        {
          "name": "stdout",
          "output_type": "stream",
          "text": [
            "False\n"
          ]
        }
      ],
      "source": [
        "X=False\n",
        "Y=True\n",
        "\n",
        "result =X and Y\n",
        "print(result)"
      ]
    },
    {
      "cell_type": "code",
      "execution_count": null,
      "metadata": {
        "id": "021XxrqIgRYb",
        "outputId": "a092e539-39cd-4f7d-9987-3bf9a87c24a5"
      },
      "outputs": [
        {
          "name": "stdout",
          "output_type": "stream",
          "text": [
            "False\n"
          ]
        }
      ],
      "source": [
        "## OR\n",
        "X=False\n",
        "Y=False\n",
        "\n",
        "result =X or Y\n",
        "print(result)"
      ]
    },
    {
      "cell_type": "code",
      "execution_count": null,
      "metadata": {
        "id": "B2Hx9iVFgRYf",
        "outputId": "26d29f61-2fcb-4e08-8e1c-5a35776d17da"
      },
      "outputs": [
        {
          "data": {
            "text/plain": [
              "True"
            ]
          },
          "execution_count": 29,
          "metadata": {},
          "output_type": "execute_result"
        }
      ],
      "source": [
        "# Not operator\n",
        "X=False\n",
        "not X"
      ]
    },
    {
      "cell_type": "code",
      "execution_count": null,
      "metadata": {
        "id": "mx08kdLLgRYh",
        "outputId": "99b4cae7-09d5-43e2-8b5c-c445972a49b7"
      },
      "outputs": [
        {
          "name": "stdout",
          "output_type": "stream",
          "text": [
            "Addition: 16.0\n",
            "Subtraction: 8.0\n",
            "Multiplication: 48.0\n",
            "Division: 3.0\n",
            "Floor Division: 3.0\n",
            "Modulus: 0.0\n",
            "Exponentiation: 20736.0\n"
          ]
        }
      ],
      "source": [
        "## Simple Calculator\n",
        "\n",
        "# Simple calculator\n",
        "num1 = float(input(\"Enter first number: \"))\n",
        "num2 = float(input(\"Enter second number: \"))\n",
        "\n",
        "# Performing arithmetic operations\n",
        "addition = num1 + num2\n",
        "subtraction = num1 - num2\n",
        "multiplication = num1 * num2\n",
        "division = num1 / num2\n",
        "floor_division = num1 // num2\n",
        "modulus = num1 % num2\n",
        "exponentiation = num1 ** num2\n",
        "\n",
        "# Displaying results\n",
        "print(\"Addition:\", addition)\n",
        "print(\"Subtraction:\", subtraction)\n",
        "print(\"Multiplication:\", multiplication)\n",
        "print(\"Division:\", division)\n",
        "print(\"Floor Division:\", floor_division)\n",
        "print(\"Modulus:\", modulus)\n",
        "print(\"Exponentiation:\", exponentiation)\n"
      ]
    },
    {
      "cell_type": "code",
      "execution_count": null,
      "metadata": {
        "id": "3Yp8qqKZgRYk"
      },
      "outputs": [],
      "source": []
    }
  ],
  "metadata": {
    "kernelspec": {
      "display_name": "Python 3",
      "language": "python",
      "name": "python3"
    },
    "language_info": {
      "codemirror_mode": {
        "name": "ipython",
        "version": 3
      },
      "file_extension": ".py",
      "mimetype": "text/x-python",
      "name": "python",
      "nbconvert_exporter": "python",
      "pygments_lexer": "ipython3",
      "version": "3.12.0"
    },
    "colab": {
      "provenance": [],
      "include_colab_link": true
    }
  },
  "nbformat": 4,
  "nbformat_minor": 0
}