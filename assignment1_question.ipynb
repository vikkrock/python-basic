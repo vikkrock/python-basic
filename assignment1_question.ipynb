{
  "cells": [
    {
      "cell_type": "markdown",
      "metadata": {
        "id": "view-in-github",
        "colab_type": "text"
      },
      "source": [
        "<a href=\"https://colab.research.google.com/github/vikkrock/python-basic/blob/main/assignment1_question.ipynb\" target=\"_parent\"><img src=\"https://colab.research.google.com/assets/colab-badge.svg\" alt=\"Open In Colab\"/></a>"
      ]
    },
    {
      "cell_type": "markdown",
      "metadata": {
        "id": "JD79Q4ZrlNoM"
      },
      "source": [
        "# Lesson 1.2: Python Basics\n",
        "## Topics Covered:\n",
        "- Syntax and Semantics\n",
        "- Variables and Data Types\n",
        "- Basic Operators (Arithmetic, Comparison, Logical)\n"
      ]
    },
    {
      "cell_type": "markdown",
      "metadata": {
        "id": "h2mkisNslNoR"
      },
      "source": [
        "## 1. Syntax and Semantics\n",
        "\n",
        "**Question 1:** Write a Python program to print \"Hello, World!\"."
      ]
    },
    {
      "cell_type": "code",
      "metadata": {
        "colab": {
          "base_uri": "https://localhost:8080/"
        },
        "id": "h3naI7lTlNoT",
        "outputId": "9216ed8a-3b04-4006-b393-5816a30c70ba"
      },
      "outputs": [
        {
          "output_type": "stream",
          "name": "stdout",
          "text": [
            "Hello, World!\n"
          ]
        }
      ],
      "source": [
        "# Your code here\n",
        "print( \"Hello, World!\")"
      ],
      "execution_count": 1
    },
    {
      "cell_type": "markdown",
      "metadata": {
        "id": "eGI9fT8DlNoW"
      },
      "source": [
        "**Question 2:** Write a Python program that takes a user input and prints it."
      ]
    },
    {
      "cell_type": "code",
      "metadata": {
        "colab": {
          "base_uri": "https://localhost:8080/"
        },
        "id": "_Z0-R75plNoX",
        "outputId": "e799e479-59fe-4faa-868e-d591d3f682a3"
      },
      "outputs": [
        {
          "output_type": "stream",
          "name": "stdout",
          "text": [
            "enter anything : vikram\n",
            "vikram\n"
          ]
        }
      ],
      "source": [
        "# Your code here\n",
        "a=input('enter anything : ')\n",
        "print(a)"
      ],
      "execution_count": 2
    },
    {
      "cell_type": "markdown",
      "metadata": {
        "id": "ANCBYPG9lNoZ"
      },
      "source": [
        "**Question 3:** Write a Python program to check if a number is positive, negative, or zero."
      ]
    },
    {
      "cell_type": "code",
      "metadata": {
        "colab": {
          "base_uri": "https://localhost:8080/"
        },
        "id": "O3_MPhSqlNoa",
        "outputId": "7244dc11-e7fe-49b5-a34c-1dd225b0b6a2"
      },
      "outputs": [
        {
          "output_type": "stream",
          "name": "stdout",
          "text": [
            "enter a number :0\n",
            "zero\n"
          ]
        }
      ],
      "source": [
        "# Your code here\n",
        "a=int(input('enter a number :'))\n",
        "if a==0:\n",
        "  print('zero')\n",
        "else:\n",
        "  if a>0:\n",
        "    print('positive')\n",
        "  else:\n",
        "    print('Negative')"
      ],
      "execution_count": 5
    },
    {
      "cell_type": "markdown",
      "metadata": {
        "id": "7l7YUJZGlNob"
      },
      "source": [
        "**Question 4:** Write a Python program to find the largest of three numbers."
      ]
    },
    {
      "cell_type": "code",
      "metadata": {
        "colab": {
          "base_uri": "https://localhost:8080/"
        },
        "id": "5bVzskb5lNoc",
        "outputId": "44cc8f29-2bf7-4af7-bec6-ad8a9f6023f5"
      },
      "outputs": [
        {
          "output_type": "stream",
          "name": "stdout",
          "text": [
            "enter no:12\n",
            "enter no:13\n",
            "enter no:15\n",
            "largest: 15\n"
          ]
        }
      ],
      "source": [
        "# Your code here\n",
        "a=int(input('enter no:'))\n",
        "b=int(input('enter no:'))\n",
        "c=int(input('enter no:'))\n",
        "\n",
        "if a>b and a>c:\n",
        "  print('largest:',a)\n",
        "else:\n",
        "  if b>c:\n",
        "    print('largest:',b)\n",
        "  else:\n",
        "    print('largest:',c)"
      ],
      "execution_count": 11
    },
    {
      "cell_type": "code",
      "source": [
        "num1 = float(input(\"Enter first number: \"))\n",
        "num2 = float(input(\"Enter second number: \"))\n",
        "num3 = float(input(\"Enter third number: \"))\n",
        "\n",
        "if (num1 >= num2) and (num1 >= num3):\n",
        "    largest = num1\n",
        "elif (num2 >= num1) and (num2 >= num3):\n",
        "    largest = num2\n",
        "else:\n",
        "    largest = num3\n",
        "\n",
        "print(f\"The largest number is {largest}\")3"
      ],
      "metadata": {
        "colab": {
          "base_uri": "https://localhost:8080/"
        },
        "id": "0nBKdBSbOrUj",
        "outputId": "53b4829d-ad01-4d61-8fa6-590df4a87dd4"
      },
      "execution_count": 9,
      "outputs": [
        {
          "output_type": "stream",
          "name": "stdout",
          "text": [
            "Enter first number: 12\n",
            "Enter second number: 4\n",
            "Enter third number: 12\n",
            "The largest number is 12.0\n"
          ]
        }
      ]
    },
    {
      "cell_type": "markdown",
      "metadata": {
        "id": "ehjCwQqIlNoe"
      },
      "source": [
        "**Question 5:** Write a Python program to calculate the factorial of a number."
      ]
    },
    {
      "cell_type": "code",
      "metadata": {
        "colab": {
          "base_uri": "https://localhost:8080/"
        },
        "id": "SOR0gjd4lNof",
        "outputId": "4d6abd3b-25ff-430a-c3ce-07f7595427cf"
      },
      "outputs": [
        {
          "output_type": "stream",
          "name": "stdout",
          "text": [
            "enter a number:5\n",
            "120\n"
          ]
        }
      ],
      "source": [
        "# Your code here\n",
        "a=int(input('enter a number:'))\n",
        "m=1\n",
        "while a>0:\n",
        "  m=a*m\n",
        "  a=a-1\n",
        "print(m)"
      ],
      "execution_count": 12
    },
    {
      "cell_type": "code",
      "source": [
        "def factorial(n):\n",
        "    if n == 0:\n",
        "        return 1\n",
        "    else:\n",
        "        return n * factorial(n-1)\n",
        "num = int(input(\"Enter a number: \"))\n",
        "print(f\"The factorial of {num} is {factorial(num)}\")"
      ],
      "metadata": {
        "colab": {
          "base_uri": "https://localhost:8080/"
        },
        "id": "T--9cJQFObQB",
        "outputId": "3a415742-ace7-483f-9e0d-6512b3aa1fa6"
      },
      "execution_count": 8,
      "outputs": [
        {
          "output_type": "stream",
          "name": "stdout",
          "text": [
            "Enter a number: 12\n",
            "The factorial of 12 is 479001600\n"
          ]
        }
      ]
    },
    {
      "cell_type": "markdown",
      "metadata": {
        "id": "fT35nTK0lNog"
      },
      "source": [
        "## 2. Variables and Data Types\n",
        "\n",
        "**Question 6:** Create variables of different data types: integer, float, string, and boolean. Print their values and types."
      ]
    },
    {
      "cell_type": "code",
      "metadata": {
        "colab": {
          "base_uri": "https://localhost:8080/"
        },
        "id": "poSSXZn0lNoh",
        "outputId": "b3c3aaef-55fd-4390-9ff7-81f528fac398"
      },
      "outputs": [
        {
          "output_type": "stream",
          "name": "stdout",
          "text": [
            "Integer value: 10, type: <class 'int'>\n",
            "Float value: 10.5, type: <class 'float'>\n",
            "String value: Hello, type: <class 'str'>\n",
            "Boolean value: True, type: <class 'bool'>\n"
          ]
        }
      ],
      "source": [
        "integer_var = 10\n",
        "float_var = 10.5\n",
        "string_var = \"Hello\"\n",
        "boolean_var = True\n",
        "\n",
        "print(f\"Integer value: {integer_var}, type: {type(integer_var)}\")\n",
        "print(f\"Float value: {float_var}, type: {type(float_var)}\")\n",
        "print(f\"String value: {string_var}, type: {type(string_var)}\")\n",
        "print(f\"Boolean value: {boolean_var}, type: {type(boolean_var)}\")"
      ],
      "execution_count": 6
    },
    {
      "cell_type": "markdown",
      "metadata": {
        "id": "coc4VtnDlNoi"
      },
      "source": [
        "**Question 7:** Write a Python program to swap the values of two variables."
      ]
    },
    {
      "cell_type": "code",
      "metadata": {
        "colab": {
          "base_uri": "https://localhost:8080/"
        },
        "id": "yHa3uUXblNoj",
        "outputId": "bad9715e-0874-49e5-9afb-8bc284376dc6"
      },
      "outputs": [
        {
          "output_type": "stream",
          "name": "stdout",
          "text": [
            "enter a no. :16\n",
            "enter another no.:23\n",
            "After swap: a = 23, b = 12\n"
          ]
        }
      ],
      "source": [
        "# Your code here\n",
        "a=int(input('enter a no. :'))\n",
        "b=int(input('enter another no.:'))\n",
        "a,b=b,c\n",
        "print(f\"After swap: a = {a}, b = {b}\")"
      ],
      "execution_count": 5
    },
    {
      "cell_type": "markdown",
      "metadata": {
        "id": "Byz-mSlslNoj"
      },
      "source": [
        "**Question 8:** Write a Python program to convert Celsius to Fahrenheit."
      ]
    },
    {
      "cell_type": "code",
      "metadata": {
        "colab": {
          "base_uri": "https://localhost:8080/"
        },
        "id": "RpO9AxUclNok",
        "outputId": "f569724b-e464-41cd-a184-99c82379e626"
      },
      "outputs": [
        {
          "output_type": "stream",
          "name": "stdout",
          "text": [
            "enter temperature in celcius: 35\n",
            "temperature in fahrenhiet is  95.0\n"
          ]
        }
      ],
      "source": [
        "# Your code here\n",
        "temp=float(input('enter temperature in celcius: '))\n",
        "f= (1.8*temp)+32\n",
        "print('temperature in fahrenhiet is ',f)"
      ],
      "execution_count": 3
    },
    {
      "cell_type": "markdown",
      "metadata": {
        "id": "xbfgHxc6lNok"
      },
      "source": [
        "**Question 9:** Write a Python program to concatenate two strings."
      ]
    },
    {
      "cell_type": "code",
      "metadata": {
        "colab": {
          "base_uri": "https://localhost:8080/"
        },
        "id": "fzvcTGBTlNok",
        "outputId": "200e66ff-ec76-458d-9717-80ef0617b1ae"
      },
      "outputs": [
        {
          "output_type": "stream",
          "name": "stdout",
          "text": [
            "Vikram Singh\n"
          ]
        }
      ],
      "source": [
        "# Your code here\n",
        "a='Vikram'\n",
        "b='Singh'\n",
        "print(a+' '+b)"
      ],
      "execution_count": 4
    },
    {
      "cell_type": "markdown",
      "metadata": {
        "id": "NuHrVFdGlNol"
      },
      "source": [
        "**Question 10:** Write a Python program to check if a variable is of a specific data type."
      ]
    },
    {
      "cell_type": "code",
      "metadata": {
        "colab": {
          "base_uri": "https://localhost:8080/"
        },
        "id": "2A3BObsPlNom",
        "outputId": "f0da2b4f-5c59-4f3e-979c-4e401cc3f1d1"
      },
      "outputs": [
        {
          "output_type": "stream",
          "name": "stdout",
          "text": [
            "10.5 is a float\n"
          ]
        }
      ],
      "source": [
        "# Your code here\n",
        "var = 10.5\n",
        "if isinstance(var, float):\n",
        "    print(f\"{var} is a float\")\n",
        "else:\n",
        "    print(f\"{var} is not a float\")\n"
      ],
      "execution_count": 10
    },
    {
      "cell_type": "markdown",
      "metadata": {
        "id": "WBlM8I-ElNon"
      },
      "source": [
        "## 3. Basic Operators (Arithmetic, Comparison, Logical)\n",
        "\n",
        "**Question 11:** Write a Python program to perform arithmetic operations: addition, subtraction, multiplication, and division."
      ]
    },
    {
      "cell_type": "code",
      "metadata": {
        "colab": {
          "base_uri": "https://localhost:8080/"
        },
        "id": "AiB7y-NflNoo",
        "outputId": "f3f78931-02e4-40db-a2a4-923b01b8cb5e"
      },
      "outputs": [
        {
          "output_type": "stream",
          "name": "stdout",
          "text": [
            "Addition: 5 + 3 = 8\n",
            "Subtraction: 5 - 3 = 2\n",
            "Multiplication: 5 * 3 = 15\n",
            "Division: 5 / 3 = 1.6666666666666667\n"
          ]
        }
      ],
      "source": [
        "# Your code here\n",
        "a = 5\n",
        "b = 3\n",
        "\n",
        "print(f\"Addition: {a} + {b} = {a + b}\")\n",
        "print(f\"Subtraction: {a} - {b} = {a - b}\")\n",
        "print(f\"Multiplication: {a} * {b} = {a * b}\")\n",
        "print(f\"Division: {a} / {b} = {a / b}\")"
      ],
      "execution_count": 11
    },
    {
      "cell_type": "markdown",
      "metadata": {
        "id": "H6zsFNyOlNoo"
      },
      "source": [
        "**Question 12:** Write a Python program to demonstrate comparison operators: equal to, not equal to, greater than, less than."
      ]
    },
    {
      "cell_type": "code",
      "metadata": {
        "colab": {
          "base_uri": "https://localhost:8080/"
        },
        "id": "1U-IX5rQlNop",
        "outputId": "9475492c-f338-4617-93fe-e7d6646476ef"
      },
      "outputs": [
        {
          "output_type": "stream",
          "name": "stdout",
          "text": [
            "4==3:False\n",
            "4!=3:True\n",
            "4>3: True\n",
            "4<3:False\n"
          ]
        }
      ],
      "source": [
        "# Your code here\n",
        "a=4\n",
        "b=3\n",
        "print(f\"{a}=={b}:{a==b}\")\n",
        "print(f\"{a}!={b}:{a!=b}\")\n",
        "print(f\"{a}>{b}: {a>b}\")\n",
        "print(f\"{a}<{b}:{a<b}\")"
      ],
      "execution_count": 12
    },
    {
      "cell_type": "markdown",
      "metadata": {
        "id": "6e7XXk4DlNop"
      },
      "source": [
        "**Question 13:** Write a Python program to demonstrate logical operators: and, or, not."
      ]
    },
    {
      "cell_type": "code",
      "metadata": {
        "colab": {
          "base_uri": "https://localhost:8080/"
        },
        "id": "aP_x3M39lNoq",
        "outputId": "19a2d6ee-1714-48db-dc9c-7505bb6ce950"
      },
      "outputs": [
        {
          "output_type": "stream",
          "name": "stdout",
          "text": [
            "True and False: False\n",
            "True or False: True\n",
            "not True: False\n"
          ]
        }
      ],
      "source": [
        "# Your code here\n",
        "a=True\n",
        "b=False\n",
        "print(f\"True and False: {a and b}\")\n",
        "print(f\"True or False: {a or b}\")\n",
        "print(f\"not True: {not a}\")"
      ],
      "execution_count": 13
    },
    {
      "cell_type": "markdown",
      "metadata": {
        "id": "agvso6HclNoq"
      },
      "source": [
        "**Question 14:** Write a Python program to calculate the square of a number."
      ]
    },
    {
      "cell_type": "code",
      "metadata": {
        "colab": {
          "base_uri": "https://localhost:8080/"
        },
        "id": "rsa-JwQflNoq",
        "outputId": "d5a67c45-4d85-4915-be74-76428b910251"
      },
      "outputs": [
        {
          "output_type": "stream",
          "name": "stdout",
          "text": [
            "enter a no.:5\n",
            "square of 5 is 25\n"
          ]
        }
      ],
      "source": [
        "# Your code here\n",
        "a=int(input('enter a no.:'))\n",
        "print(f\"square of {a} is {a**2}\")"
      ],
      "execution_count": 14
    },
    {
      "cell_type": "markdown",
      "metadata": {
        "id": "8KqMnPEvlNor"
      },
      "source": [
        "**Question 15:** Write a Python program to check if a number is even or odd."
      ]
    },
    {
      "cell_type": "code",
      "metadata": {
        "colab": {
          "base_uri": "https://localhost:8080/"
        },
        "id": "poH5j4NNlNos",
        "outputId": "5c908df1-0527-41a4-fea8-a66e6d0a017f"
      },
      "outputs": [
        {
          "output_type": "stream",
          "name": "stdout",
          "text": [
            "enter a no.:17\n",
            "17 is odd number\n"
          ]
        }
      ],
      "source": [
        "# Your code here\n",
        "a=int(input('enter a no.:'))\n",
        "if a%2==0:\n",
        "  print(f\"{a} is even number\")\n",
        "else:\n",
        "  print(f\"{a} is odd number\")"
      ],
      "execution_count": 15
    },
    {
      "cell_type": "markdown",
      "metadata": {
        "id": "XsayouMblNos"
      },
      "source": [
        "**Question 16:** Write a Python program to find the sum of the first n natural numbers."
      ]
    },
    {
      "cell_type": "code",
      "metadata": {
        "colab": {
          "base_uri": "https://localhost:8080/"
        },
        "id": "_k9kB3kjlNot",
        "outputId": "f8d0d5e0-00d2-4cb6-dba7-dd204d0ac04a"
      },
      "outputs": [
        {
          "output_type": "stream",
          "name": "stdout",
          "text": [
            "enter a no.:12\n",
            "sum of first n natural no. is 78\n"
          ]
        }
      ],
      "source": [
        "# Your code here\n",
        "n=int(input('enter a no.:'))\n",
        "sum=(n*(n+1))//2\n",
        "print(f\"sum of first n natural no. is {sum}\")"
      ],
      "execution_count": 19
    },
    {
      "cell_type": "markdown",
      "metadata": {
        "id": "FP31B90blNou"
      },
      "source": [
        "**Question 17:** Write a Python program to check if a year is a leap year."
      ]
    },
    {
      "cell_type": "code",
      "metadata": {
        "colab": {
          "base_uri": "https://localhost:8080/"
        },
        "id": "pGEO_i10lNov",
        "outputId": "92eeb321-285e-46f7-88c5-072b14656147"
      },
      "outputs": [
        {
          "output_type": "stream",
          "name": "stdout",
          "text": [
            "enter a year: 2100\n",
            "2100 is not leap year\n"
          ]
        }
      ],
      "source": [
        "# Your code here\n",
        "year=int(input('enter a year: '))\n",
        "if (year%4==0 and year%100!=0) or (year%400==0):\n",
        "  print(f\"{year} is leap year\")\n",
        "else:\n",
        "  print(f\"{year} is not leap year\")"
      ],
      "execution_count": 21
    },
    {
      "cell_type": "markdown",
      "metadata": {
        "id": "CQusPzX0lNov"
      },
      "source": [
        "**Question 18:** Write a Python program to reverse a string."
      ]
    },
    {
      "cell_type": "code",
      "metadata": {
        "colab": {
          "base_uri": "https://localhost:8080/"
        },
        "id": "XpeYsTdylNov",
        "outputId": "9703f280-54df-4f3c-db41-f3459d894f8b"
      },
      "outputs": [
        {
          "output_type": "stream",
          "name": "stdout",
          "text": [
            "Enter a string: riya\n",
            "ayir\n"
          ]
        }
      ],
      "source": [
        "# Your code here\n",
        "string = input(\"Enter a string: \")\n",
        "print(string[::-1])"
      ],
      "execution_count": 22
    },
    {
      "cell_type": "markdown",
      "metadata": {
        "id": "7y8LzsjAlNow"
      },
      "source": [
        "**Question 19:** Write a Python program to check if a string is a palindrome."
      ]
    },
    {
      "cell_type": "code",
      "metadata": {
        "colab": {
          "base_uri": "https://localhost:8080/"
        },
        "id": "oeri9BI0lNow",
        "outputId": "1f269a31-3ccb-4c23-83bf-47f448327874"
      },
      "outputs": [
        {
          "output_type": "stream",
          "name": "stdout",
          "text": [
            "enter string :12321\n",
            "12321 is palindrome\n"
          ]
        }
      ],
      "source": [
        "# Your code here\n",
        "string=input('enter string :')\n",
        "if string==string[::-1]:\n",
        "  print(f\"{string} is palindrome\")\n",
        "else:\n",
        "  print(f\"{string} is not palindrome\")"
      ],
      "execution_count": 25
    },
    {
      "cell_type": "markdown",
      "metadata": {
        "id": "fn0Rx6PtlNoy"
      },
      "source": [
        "**Question 20:** Write a Python program to sort a list of numbers in ascending order."
      ]
    },
    {
      "cell_type": "code",
      "metadata": {
        "colab": {
          "base_uri": "https://localhost:8080/"
        },
        "id": "DKc_Zqq8lNoz",
        "outputId": "b5a4a21f-3595-438e-a165-9171434a0d75"
      },
      "outputs": [
        {
          "output_type": "stream",
          "name": "stdout",
          "text": [
            "enter a number separated by space1 4 6 7 8 3 2 \n",
            "sorted list:[1, 2, 3, 4, 6, 7, 8]\n"
          ]
        }
      ],
      "source": [
        "# Your code here\n",
        "number= [int(x) for x in input('enter a number separated by space').split()]\n",
        "number.sort()\n",
        "print(f\"sorted list:{number}\")"
      ],
      "execution_count": 26
    }
  ],
  "metadata": {
    "kernelspec": {
      "display_name": "Python 3",
      "language": "python",
      "name": "python3"
    },
    "language_info": {
      "codemirror_mode": {
        "name": "ipython",
        "version": 3
      },
      "file_extension": ".py",
      "mimetype": "text/x-python",
      "name": "python",
      "nbconvert_exporter": "python",
      "pygments_lexer": "ipython3",
      "version": "3.8.5"
    },
    "colab": {
      "provenance": [],
      "include_colab_link": true
    }
  },
  "nbformat": 4,
  "nbformat_minor": 0
}