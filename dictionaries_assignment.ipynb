{
  "cells": [
    {
      "cell_type": "markdown",
      "metadata": {
        "id": "view-in-github",
        "colab_type": "text"
      },
      "source": [
        "<a href=\"https://colab.research.google.com/github/vikkrock/python-basic/blob/main/dictionaries_assignment.ipynb\" target=\"_parent\"><img src=\"https://colab.research.google.com/assets/colab-badge.svg\" alt=\"Open In Colab\"/></a>"
      ]
    },
    {
      "cell_type": "markdown",
      "metadata": {
        "id": "fVfMn6GPPsS_"
      },
      "source": [
        "# Module 3: Data Structures Assignments\n",
        "## Lesson 3.4: Dictionaries\n",
        "\n",
        "\n",
        "\n"
      ],
      "id": "fVfMn6GPPsS_"
    },
    {
      "cell_type": "markdown",
      "source": [
        "### Assignment 1: Creating and Accessing Dictionaries\n",
        "\n",
        "Create a dictionary with the first 10 positive integers as keys and their squares as values. Print the dictionary."
      ],
      "metadata": {
        "id": "G380ZYN9Pw25"
      },
      "id": "G380ZYN9Pw25"
    },
    {
      "cell_type": "code",
      "execution_count": 1,
      "metadata": {
        "colab": {
          "base_uri": "https://localhost:8080/"
        },
        "id": "L360dP5CPsTG",
        "outputId": "0a4ee79c-e1ee-4bb7-f588-14b49b85b6e2"
      },
      "outputs": [
        {
          "output_type": "stream",
          "name": "stdout",
          "text": [
            "{1: 1, 2: 4, 3: 9, 4: 16, 5: 25, 6: 36, 7: 49, 8: 64, 9: 81, 10: 100}\n"
          ]
        }
      ],
      "source": [
        "sq={x:x**2 for x in range(1,11,1)}\n",
        "print(sq)"
      ],
      "id": "L360dP5CPsTG"
    },
    {
      "cell_type": "markdown",
      "source": [
        "### Assignment 2: Accessing Dictionary Elements\n",
        "\n",
        "Print the value of the key 5 and the keys of the dictionary created in Assignment 1."
      ],
      "metadata": {
        "id": "JaftDwiIQGAs"
      },
      "id": "JaftDwiIQGAs"
    },
    {
      "cell_type": "code",
      "source": [
        "print(sq[5])"
      ],
      "metadata": {
        "colab": {
          "base_uri": "https://localhost:8080/"
        },
        "id": "MV9GbbAoQHLj",
        "outputId": "bc27bd1b-2f4d-467c-9d0a-af6e2fdcc02b"
      },
      "id": "MV9GbbAoQHLj",
      "execution_count": 2,
      "outputs": [
        {
          "output_type": "stream",
          "name": "stdout",
          "text": [
            "25\n"
          ]
        }
      ]
    },
    {
      "cell_type": "markdown",
      "source": [
        "\n",
        "### Assignment 3: Dictionary Methods\n",
        "\n",
        "Add a new key-value pair (11, 121) to the dictionary created in Assignment 1 and then remove the key-value pair with key 1. Print the modified dictionary."
      ],
      "metadata": {
        "id": "Xr2VOomUQbFC"
      },
      "id": "Xr2VOomUQbFC"
    },
    {
      "cell_type": "code",
      "source": [
        "sq[11]=121\n",
        "print(sq)"
      ],
      "metadata": {
        "colab": {
          "base_uri": "https://localhost:8080/"
        },
        "id": "fS1D8eywQfEb",
        "outputId": "87593cca-f613-4957-9006-dd756730dddb"
      },
      "id": "fS1D8eywQfEb",
      "execution_count": 3,
      "outputs": [
        {
          "output_type": "stream",
          "name": "stdout",
          "text": [
            "{1: 1, 2: 4, 3: 9, 4: 16, 5: 25, 6: 36, 7: 49, 8: 64, 9: 81, 10: 100, 11: 121}\n"
          ]
        }
      ]
    },
    {
      "cell_type": "markdown",
      "source": [
        "### Assignment 4: Iterating Over Dictionaries\n",
        "\n",
        "Iterate over the dictionary created in Assignment 1 and print each key-value pair."
      ],
      "metadata": {
        "id": "65201wCFQvyC"
      },
      "id": "65201wCFQvyC"
    },
    {
      "cell_type": "code",
      "source": [
        "for i,j in sq.items():\n",
        "  print(f'{i}:{j}')"
      ],
      "metadata": {
        "colab": {
          "base_uri": "https://localhost:8080/"
        },
        "id": "ewNKFsT_Q1LP",
        "outputId": "a6a58afc-aa3b-4f45-dc07-29b22e7672e0"
      },
      "id": "ewNKFsT_Q1LP",
      "execution_count": 6,
      "outputs": [
        {
          "output_type": "stream",
          "name": "stdout",
          "text": [
            "1:1\n",
            "2:4\n",
            "3:9\n",
            "4:16\n",
            "5:25\n",
            "6:36\n",
            "7:49\n",
            "8:64\n",
            "9:81\n",
            "10:100\n",
            "11:121\n"
          ]
        }
      ]
    },
    {
      "cell_type": "markdown",
      "source": [
        "### Assignment 5: Dictionary Comprehensions\n",
        "\n",
        "Create a new dictionary containing the cubes of the first 10 positive integers using a dictionary comprehension. Print the new dictionary."
      ],
      "metadata": {
        "id": "yeCY1ZPmRHp3"
      },
      "id": "yeCY1ZPmRHp3"
    },
    {
      "cell_type": "code",
      "source": [
        "cube= {x:x**3 for x in range(1,11,1)}\n",
        "print(cube)"
      ],
      "metadata": {
        "colab": {
          "base_uri": "https://localhost:8080/"
        },
        "id": "elRAzhXYRMJp",
        "outputId": "15860520-3ea0-400b-ad37-9d0f1de6bcb9"
      },
      "id": "elRAzhXYRMJp",
      "execution_count": 7,
      "outputs": [
        {
          "output_type": "stream",
          "name": "stdout",
          "text": [
            "{1: 1, 2: 8, 3: 27, 4: 64, 5: 125, 6: 216, 7: 343, 8: 512, 9: 729, 10: 1000}\n"
          ]
        }
      ]
    },
    {
      "cell_type": "markdown",
      "source": [
        "\n",
        "### Assignment 6: Merging Dictionaries\n",
        "\n",
        "Create two dictionaries: one with keys as the first 5 positive integers and values as their squares, and another with keys as the next 5 positive integers and values as their squares. Merge these dictionaries into a single dictionary and print it.\n"
      ],
      "metadata": {
        "id": "PVtzsjO6Rcv6"
      },
      "id": "PVtzsjO6Rcv6"
    },
    {
      "cell_type": "code",
      "source": [
        "a={x:x**2 for x in range(1,6,1)}\n",
        "b={x:x**2 for x in range(6,11,1)}\n",
        "c={**a,**b}\n",
        "print(c)"
      ],
      "metadata": {
        "colab": {
          "base_uri": "https://localhost:8080/"
        },
        "id": "Dxy9TyCgRhNY",
        "outputId": "ac3d095e-30da-44a1-a149-755ea4f20e11"
      },
      "id": "Dxy9TyCgRhNY",
      "execution_count": 10,
      "outputs": [
        {
          "output_type": "stream",
          "name": "stdout",
          "text": [
            "{1: 1, 2: 4, 3: 9, 4: 16, 5: 25, 6: 36, 7: 49, 8: 64, 9: 81, 10: 100}\n"
          ]
        }
      ]
    },
    {
      "cell_type": "markdown",
      "source": [
        "\n",
        "### Assignment 7: Nested Dictionaries\n",
        "\n",
        "Create a nested dictionary representing a student with keys 'name', 'age', 'grades', where 'grades' is another dictionary with keys 'math', 'science', and 'english'. Print the nested dictionary."
      ],
      "metadata": {
        "id": "hytqryn-Scco"
      },
      "id": "hytqryn-Scco"
    },
    {
      "cell_type": "code",
      "source": [
        "student = {\n",
        "    'name': 'John Doe',\n",
        "    'age': 16,\n",
        "    'grades': {\n",
        "        'math': 90,\n",
        "        'science': 85,\n",
        "        'english': 88\n",
        "    }\n",
        "}\n",
        "print(student)"
      ],
      "metadata": {
        "colab": {
          "base_uri": "https://localhost:8080/"
        },
        "id": "DXZZ8XYuSgY_",
        "outputId": "d8601378-0304-4698-b243-baa5b53827b4"
      },
      "id": "DXZZ8XYuSgY_",
      "execution_count": 11,
      "outputs": [
        {
          "output_type": "stream",
          "name": "stdout",
          "text": [
            "{'name': 'John Doe', 'age': 16, 'grades': {'math': 90, 'science': 85, 'english': 88}}\n"
          ]
        }
      ]
    },
    {
      "cell_type": "markdown",
      "source": [
        "### Assignment 8: Dictionary of Lists\n",
        "\n",
        "Create a dictionary where the keys are the first 5 positive integers and the values are lists containing the first 5 multiples of the key. Print the dictionary."
      ],
      "metadata": {
        "id": "31z2sbcbTM2O"
      },
      "id": "31z2sbcbTM2O"
    },
    {
      "cell_type": "code",
      "source": [
        "multi={i:{i*j for j in range(1,6)} for i in range(1,6)}\n",
        "print(multi)"
      ],
      "metadata": {
        "colab": {
          "base_uri": "https://localhost:8080/"
        },
        "id": "pSeH-02hTNmF",
        "outputId": "6ca9b650-454c-4b47-bca2-707c33ab01e2"
      },
      "id": "pSeH-02hTNmF",
      "execution_count": 12,
      "outputs": [
        {
          "output_type": "stream",
          "name": "stdout",
          "text": [
            "{1: {1, 2, 3, 4, 5}, 2: {2, 4, 6, 8, 10}, 3: {3, 6, 9, 12, 15}, 4: {4, 8, 12, 16, 20}, 5: {5, 10, 15, 20, 25}}\n"
          ]
        }
      ]
    },
    {
      "cell_type": "markdown",
      "source": [
        "\n",
        "### Assignment 9: Dictionary of Tuples\n",
        "\n",
        "Create a dictionary where the keys are the first 5 positive integers and the values are tuples containing the key and its square. Print the dictionary."
      ],
      "metadata": {
        "id": "ZfGaK6VaTw-G"
      },
      "id": "ZfGaK6VaTw-G"
    },
    {
      "cell_type": "code",
      "source": [
        "s={x:(x,x**2) for x in range(1,6)}\n",
        "print(s)"
      ],
      "metadata": {
        "colab": {
          "base_uri": "https://localhost:8080/"
        },
        "id": "YxOEoMBzTxt_",
        "outputId": "923803d9-35d0-441c-f325-0b4cb7180a6b"
      },
      "id": "YxOEoMBzTxt_",
      "execution_count": 13,
      "outputs": [
        {
          "output_type": "stream",
          "name": "stdout",
          "text": [
            "{1: (1, 1), 2: (2, 4), 3: (3, 9), 4: (4, 16), 5: (5, 25)}\n"
          ]
        }
      ]
    },
    {
      "cell_type": "markdown",
      "source": [
        "### Assignment 10: Dictionary and List Conversion\n",
        "\n",
        "Create a dictionary with the first 5 positive integers as keys and their squares as values. Convert the dictionary to a list of tuples and print it."
      ],
      "metadata": {
        "id": "VKB7L7AtUWs9"
      },
      "id": "VKB7L7AtUWs9"
    },
    {
      "cell_type": "code",
      "source": [
        "a={x:x**2 for x in range(1,6)}\n",
        "sq=[(i,j) for i,j in a.items()]\n",
        "print(sq)"
      ],
      "metadata": {
        "colab": {
          "base_uri": "https://localhost:8080/"
        },
        "id": "1HyJVteWUbK6",
        "outputId": "1a4e92e3-1154-468d-f0ea-7795a2853df1"
      },
      "id": "1HyJVteWUbK6",
      "execution_count": 15,
      "outputs": [
        {
          "output_type": "stream",
          "name": "stdout",
          "text": [
            "[(1, 1), (2, 4), (3, 9), (4, 16), (5, 25)]\n"
          ]
        }
      ]
    },
    {
      "cell_type": "markdown",
      "source": [
        "\n",
        "### Assignment 11: Dictionary Filtering\n",
        "\n",
        "Create a dictionary with the first 10 positive integers as keys and their squares as values. Create a new dictionary containing only the key-value pairs where the key is even. Print the new dictionary."
      ],
      "metadata": {
        "id": "G5qRedtDVOu5"
      },
      "id": "G5qRedtDVOu5"
    },
    {
      "cell_type": "code",
      "source": [
        "a={i:i**2 for i in range(1,11)}\n",
        "even={i:j for i,j in a.items() if i%2==0}\n",
        "print(even)"
      ],
      "metadata": {
        "colab": {
          "base_uri": "https://localhost:8080/"
        },
        "id": "4L7zGCKsVPsE",
        "outputId": "517926cd-86de-4d74-f578-221388113193"
      },
      "id": "4L7zGCKsVPsE",
      "execution_count": 17,
      "outputs": [
        {
          "output_type": "stream",
          "name": "stdout",
          "text": [
            "{2: 4, 4: 16, 6: 36, 8: 64, 10: 100}\n"
          ]
        }
      ]
    },
    {
      "cell_type": "markdown",
      "source": [
        "### Assignment 12: Dictionary Key and Value Transformation\n",
        "\n",
        "Create a dictionary with the first 5 positive integers as keys and their squares as values. Create a new dictionary with keys and values swapped. Print the new dictionary."
      ],
      "metadata": {
        "id": "rRPO0LAWWXqr"
      },
      "id": "rRPO0LAWWXqr"
    },
    {
      "cell_type": "code",
      "source": [
        "a={x:x**2 for x in range(1,6)}\n",
        "sq={j:i for i,j in a.items()}\n",
        "print(sq)"
      ],
      "metadata": {
        "colab": {
          "base_uri": "https://localhost:8080/"
        },
        "id": "IX9ZCVGBWdqz",
        "outputId": "cab70479-de93-4fd5-bb6c-216ec68699c1"
      },
      "id": "IX9ZCVGBWdqz",
      "execution_count": 18,
      "outputs": [
        {
          "output_type": "stream",
          "name": "stdout",
          "text": [
            "{1: 1, 4: 2, 9: 3, 16: 4, 25: 5}\n"
          ]
        }
      ]
    },
    {
      "cell_type": "markdown",
      "source": [
        "### Assignment 13: Default Dictionary\n",
        "\n",
        "Create a default dictionary where each key has a default value of an empty list. Add some elements to the lists and print the dictionary."
      ],
      "metadata": {
        "id": "1Z1Qwm66W0K9"
      },
      "id": "1Z1Qwm66W0K9"
    },
    {
      "cell_type": "code",
      "source": [
        "from collections import defaultdict\n",
        "\n",
        "default_dict = defaultdict(list)\n",
        "default_dict['a'].append(1)\n",
        "default_dict['a'].append(2)\n",
        "default_dict['b'].append(3)\n",
        "print(default_dict)"
      ],
      "metadata": {
        "colab": {
          "base_uri": "https://localhost:8080/"
        },
        "id": "O5Q3giYTW5Ti",
        "outputId": "ae55ffad-7ea3-4e92-b680-9820afb52db9"
      },
      "id": "O5Q3giYTW5Ti",
      "execution_count": 19,
      "outputs": [
        {
          "output_type": "stream",
          "name": "stdout",
          "text": [
            "defaultdict(<class 'list'>, {'a': [1, 2], 'b': [3]})\n"
          ]
        }
      ]
    },
    {
      "cell_type": "markdown",
      "source": [
        "### Assignment 14: Counting with Dictionaries\n",
        "\n",
        "Write a function that takes a string and returns a dictionary with the count of each character in the string. Print the dictionary."
      ],
      "metadata": {
        "id": "SMvkxjJjXRYP"
      },
      "id": "SMvkxjJjXRYP"
    },
    {
      "cell_type": "code",
      "source": [
        "def count_chars(s):\n",
        "    count_dict = {}\n",
        "    for char in s:\n",
        "        count_dict[char] = count_dict.get(char, 0) + 1\n",
        "    return count_dict\n",
        "\n",
        "string = \"hello world\"\n",
        "print(count_chars(string))"
      ],
      "metadata": {
        "colab": {
          "base_uri": "https://localhost:8080/"
        },
        "id": "wnryQGsAXSFT",
        "outputId": "ec7b050d-b7df-45ad-bfa7-d61421a13acb"
      },
      "id": "wnryQGsAXSFT",
      "execution_count": 20,
      "outputs": [
        {
          "output_type": "stream",
          "name": "stdout",
          "text": [
            "{'h': 1, 'e': 1, 'l': 3, 'o': 2, ' ': 1, 'w': 1, 'r': 1, 'd': 1}\n"
          ]
        }
      ]
    },
    {
      "cell_type": "markdown",
      "source": [
        "### Assignment 15: Dictionary and JSON\n",
        "\n",
        "Create a dictionary representing a book with keys 'title', 'author', 'year', and 'genre'. Convert the dictionary to a JSON string and print it."
      ],
      "metadata": {
        "id": "T1OaEC-3XXx1"
      },
      "id": "T1OaEC-3XXx1"
    },
    {
      "cell_type": "code",
      "source": [
        "import json\n",
        "book = {\n",
        "    'title': 'To Kill a Mockingbird',\n",
        "    'author': 'Harper Lee',\n",
        "    'year': 1960,\n",
        "    'genre': 'Fiction'\n",
        "}\n",
        "book_json=json.dumps(book)\n",
        "print(book_json)"
      ],
      "metadata": {
        "colab": {
          "base_uri": "https://localhost:8080/"
        },
        "id": "v-EWsAckXtrY",
        "outputId": "db992572-bd18-4b42-d3d5-8bd9ad23167e"
      },
      "id": "v-EWsAckXtrY",
      "execution_count": 22,
      "outputs": [
        {
          "output_type": "stream",
          "name": "stdout",
          "text": [
            "{\"title\": \"To Kill a Mockingbird\", \"author\": \"Harper Lee\", \"year\": 1960, \"genre\": \"Fiction\"}\n"
          ]
        }
      ]
    }
  ],
  "metadata": {
    "kernelspec": {
      "display_name": "Python 3",
      "language": "python",
      "name": "python3"
    },
    "language_info": {
      "codemirror_mode": {
        "name": "ipython",
        "version": 3
      },
      "file_extension": ".py",
      "mimetype": "text/x-python",
      "name": "python",
      "nbconvert_exporter": "python",
      "pygments_lexer": "ipython3",
      "version": "3.9.7"
    },
    "colab": {
      "provenance": [],
      "include_colab_link": true
    }
  },
  "nbformat": 4,
  "nbformat_minor": 5
}