{
  "cells": [
    {
      "cell_type": "markdown",
      "metadata": {
        "id": "view-in-github",
        "colab_type": "text"
      },
      "source": [
        "<a href=\"https://colab.research.google.com/github/vikkrock/python-basic/blob/main/assignment_question2.ipynb\" target=\"_parent\"><img src=\"https://colab.research.google.com/assets/colab-badge.svg\" alt=\"Open In Colab\"/></a>"
      ]
    },
    {
      "cell_type": "markdown",
      "metadata": {
        "id": "S4brfvrdjYJO"
      },
      "source": [
        "# Module 2: Control Flow Assignments\n",
        "## Lesson 2.1: Conditional Statements\n",
        "### Assignment 1: Simple if Statement\n",
        "\n",
        "Write a program that asks the user to input a number and prints whether the number is positive.\n",
        "\n",
        "### Assignment 2: if-else Statement\n",
        "\n",
        "Write a program that asks the user to input a number and prints whether the number is positive or negative.\n",
        "\n",
        "### Assignment 3: if-elif-else Statement\n",
        "\n",
        "Write a program that asks the user to input a number and prints whether the number is positive, negative, or zero.\n",
        "\n",
        "### Assignment 4: Nested if Statement\n",
        "\n",
        "Write a program that asks the user to input a number and prints whether the number is positive and even, positive and odd, or negative.\n",
        "\n",
        "## Lesson 2.2: Loops\n",
        "### Assignment 5: for Loop\n",
        "\n",
        "Write a program that prints all the numbers from 1 to 10 using a for loop.\n",
        "\n",
        "### Assignment 6: while Loop\n",
        "\n",
        "Write a program that prints all the numbers from 1 to 10 using a while loop.\n",
        "\n",
        "### Assignment 7: Nested Loops\n",
        "\n",
        "Write a program that prints a 5x5 grid of asterisks (*) using nested loops.\n",
        "\n",
        "### Assignment 8: break Statement\n",
        "\n",
        "Write a program that asks the user to input numbers until they input 0. The program should print the sum of all the input numbers.\n",
        "\n",
        "### Assignment 9: continue Statement\n",
        "\n",
        "Write a program that prints all the numbers from 1 to 10 except 5 using a for loop and continue statement.\n",
        "\n",
        "### Assignment 10: pass Statement\n",
        "\n",
        "Write a program that defines an empty function using the pass statement.\n",
        "\n",
        "### Assignment 11: Combining Loops and Conditionals\n",
        "\n",
        "Write a program that asks the user to input a number and prints all the even numbers from 1 to that number using a for loop.\n",
        "\n",
        "### Assignment 12: Factorial Calculation\n",
        "\n",
        "Write a program that calculates the factorial of a number input by the user using a while loop.\n",
        "\n",
        "### Assignment 13: Sum of Digits\n",
        "\n",
        "Write a program that calculates the sum of the digits of a number input by the user using a while loop.\n",
        "\n",
        "### Assignment 14: Prime Number Check\n",
        "\n",
        "Write a program that checks if a number input by the user is a prime number using a for loop.\n",
        "\n",
        "### Assignment 15: Fibonacci Sequence\n",
        "\n",
        "Write a program that prints the first n Fibonacci numbers, where n is input by the user."
      ],
      "id": "S4brfvrdjYJO"
    },
    {
      "cell_type": "markdown",
      "source": [
        "##Assignment 1: Simple if Statement\n",
        "####Write a program that asks the user to input a number and prints whether the number is positive."
      ],
      "metadata": {
        "id": "bcTrW43NjpaF"
      },
      "id": "bcTrW43NjpaF"
    },
    {
      "cell_type": "code",
      "source": [
        "a=int(input('enter a number: '))\n",
        "if a>0:\n",
        "  print(f\"{a} is a positive number\")\n",
        "else:\n",
        "  print(f\"{a} is not a positive number\")"
      ],
      "metadata": {
        "colab": {
          "base_uri": "https://localhost:8080/"
        },
        "id": "DuBsu4xNjirK",
        "outputId": "9eba1776-8202-4a85-bf27-376e0ee82bfd"
      },
      "id": "DuBsu4xNjirK",
      "execution_count": 1,
      "outputs": [
        {
          "output_type": "stream",
          "name": "stdout",
          "text": [
            "enter a number: -3\n",
            "-3 is not a positive number\n"
          ]
        }
      ]
    },
    {
      "cell_type": "markdown",
      "source": [
        "##Assignment 2: if-else Statement\n",
        "####Write a program that asks the user to input a number and prints whether the number is positive or negative."
      ],
      "metadata": {
        "id": "QY3uM-Symlae"
      },
      "id": "QY3uM-Symlae"
    },
    {
      "cell_type": "code",
      "execution_count": 4,
      "metadata": {
        "colab": {
          "base_uri": "https://localhost:8080/"
        },
        "id": "9Poa_trAjYJR",
        "outputId": "b3d216c1-d4c3-445d-9504-6964f47f5e1a"
      },
      "outputs": [
        {
          "output_type": "stream",
          "name": "stdout",
          "text": [
            "enter a number: -5\n",
            "-5 is a negative number\n"
          ]
        }
      ],
      "source": [
        "a=int(input('enter a number: '))\n",
        "if a>0:\n",
        "  print(f\"{a} is a positive number\")\n",
        "else:\n",
        "  if a==0:\n",
        "    print(f\"{a} is zero\")\n",
        "  else:\n",
        "    print(f\"{a} is a negative number\")"
      ],
      "id": "9Poa_trAjYJR"
    },
    {
      "cell_type": "markdown",
      "source": [
        "##Assignment 3: if-elif-else Statement\n",
        "####Write a program that asks the user to input a number and prints whether the number is positive, negative, or zero."
      ],
      "metadata": {
        "id": "BPEjynGMnMBX"
      },
      "id": "BPEjynGMnMBX"
    },
    {
      "cell_type": "code",
      "source": [
        "a=int(input('enter a number: '))\n",
        "if a>0:\n",
        "  print(f\"{a} is a positive number\")\n",
        "elif a==0:\n",
        "  print(f\"{a} is zero\")\n",
        "else:\n",
        "  print(f\"{a} is a negative number\")"
      ],
      "metadata": {
        "colab": {
          "base_uri": "https://localhost:8080/"
        },
        "id": "ug-_raovnVQg",
        "outputId": "5a365de7-2c42-4dac-8845-7d444481c724"
      },
      "id": "ug-_raovnVQg",
      "execution_count": 6,
      "outputs": [
        {
          "output_type": "stream",
          "name": "stdout",
          "text": [
            "enter a number: 0\n",
            "0 is zero\n"
          ]
        }
      ]
    },
    {
      "cell_type": "markdown",
      "source": [
        "##Assignment 4: Nested if Statement\n",
        "####Write a program that asks the user to input a number and prints whether the number is positive and even, positive and odd, or negative."
      ],
      "metadata": {
        "id": "HGcbWERentyy"
      },
      "id": "HGcbWERentyy"
    },
    {
      "cell_type": "code",
      "source": [
        "a=int(input('enter a number: '))\n",
        "if a>0:\n",
        "  if a%2==0:\n",
        "    print(f\"{a} is a positive even number\")\n",
        "  else:\n",
        "    print(f\"{a} is a positive odd number\")\n",
        "elif a==0:\n",
        "  print(f\"{a} is zero\")\n",
        "else:\n",
        " print(f\"{a} is a negative number\")"
      ],
      "metadata": {
        "colab": {
          "base_uri": "https://localhost:8080/"
        },
        "id": "Tb-2Jfwfn6Fd",
        "outputId": "353508b1-28ee-4734-bcf6-62791f4c20d8"
      },
      "id": "Tb-2Jfwfn6Fd",
      "execution_count": 7,
      "outputs": [
        {
          "output_type": "stream",
          "name": "stdout",
          "text": [
            "enter a number: 133\n",
            "133 is a positive odd number\n"
          ]
        }
      ]
    },
    {
      "cell_type": "markdown",
      "source": [
        "#Lesson 2.2: Loops\n",
        "##Assignment 5: for Loop\n",
        "####Write a program that prints all the numbers from 1 to 10 using a for loop."
      ],
      "metadata": {
        "id": "E3kwJXdaoZxL"
      },
      "id": "E3kwJXdaoZxL"
    },
    {
      "cell_type": "code",
      "source": [
        "for i in range(10):\n",
        "  print(i+1)"
      ],
      "metadata": {
        "colab": {
          "base_uri": "https://localhost:8080/"
        },
        "id": "W5Nd9LDmojql",
        "outputId": "992243fb-01a7-41dc-ba41-b901ae99601c"
      },
      "id": "W5Nd9LDmojql",
      "execution_count": 9,
      "outputs": [
        {
          "output_type": "stream",
          "name": "stdout",
          "text": [
            "1\n",
            "2\n",
            "3\n",
            "4\n",
            "5\n",
            "6\n",
            "7\n",
            "8\n",
            "9\n",
            "10\n"
          ]
        }
      ]
    },
    {
      "cell_type": "markdown",
      "source": [
        "##Assignment 6: while Loop\n",
        "####Write a program that prints all the numbers from 1 to 10 using a while loop."
      ],
      "metadata": {
        "id": "YAAQtwrMowe2"
      },
      "id": "YAAQtwrMowe2"
    },
    {
      "cell_type": "code",
      "source": [
        "a=0\n",
        "while a<10:\n",
        "  print(a+1)\n",
        "  a=a+1"
      ],
      "metadata": {
        "colab": {
          "base_uri": "https://localhost:8080/"
        },
        "id": "zhbsj1CgpA9K",
        "outputId": "fbbbd0ea-cae6-47a0-91ea-af5f98e388b4"
      },
      "id": "zhbsj1CgpA9K",
      "execution_count": 10,
      "outputs": [
        {
          "output_type": "stream",
          "name": "stdout",
          "text": [
            "1\n",
            "2\n",
            "3\n",
            "4\n",
            "5\n",
            "6\n",
            "7\n",
            "8\n",
            "9\n",
            "10\n"
          ]
        }
      ]
    },
    {
      "cell_type": "markdown",
      "source": [
        "##Assignment 7: Nested Loops\n",
        "####Write a program that prints a 5x5 grid of asterisks (*) using nested loops."
      ],
      "metadata": {
        "id": "fNx9PgUOpO1g"
      },
      "id": "fNx9PgUOpO1g"
    },
    {
      "cell_type": "code",
      "source": [
        "s='*'\n",
        "for i in range(5):\n",
        "  for i in range (4):\n",
        "    s=s+'*'\n",
        "  print(s)\n",
        "  s='*'"
      ],
      "metadata": {
        "colab": {
          "base_uri": "https://localhost:8080/"
        },
        "id": "JVS7vERHpWuM",
        "outputId": "4edec0d7-c429-4abe-f51e-b784c55d56ae"
      },
      "id": "JVS7vERHpWuM",
      "execution_count": 15,
      "outputs": [
        {
          "output_type": "stream",
          "name": "stdout",
          "text": [
            "*****\n",
            "*****\n",
            "*****\n",
            "*****\n",
            "*****\n"
          ]
        }
      ]
    },
    {
      "cell_type": "markdown",
      "source": [
        "##Assignment 8: break Statement\n",
        "####Write a program that asks the user to input numbers until they input 0. The program should print the sum of all the input numbers."
      ],
      "metadata": {
        "id": "9tsUkwThqOpc"
      },
      "id": "9tsUkwThqOpc"
    },
    {
      "cell_type": "code",
      "source": [
        "sum=0\n",
        "n=int(input('enter a number: '))\n",
        "while n!=0:\n",
        "  sum+=n\n",
        "  n=int(input('enter number again: '))\n",
        "\n",
        "print(sum)\n"
      ],
      "metadata": {
        "colab": {
          "base_uri": "https://localhost:8080/"
        },
        "id": "6PyP8QDvqW3I",
        "outputId": "d119d2c4-d1eb-41bf-a622-79728db1edf3"
      },
      "id": "6PyP8QDvqW3I",
      "execution_count": 18,
      "outputs": [
        {
          "output_type": "stream",
          "name": "stdout",
          "text": [
            "enter a number: 2\n",
            "enter number again: 4\n",
            "enter number again: 6\n",
            "enter number again: 8\n",
            "enter number again: 0\n",
            "20\n"
          ]
        }
      ]
    },
    {
      "cell_type": "markdown",
      "source": [
        "##Assignment 9: continue Statement\n",
        "####Write a program that prints all the numbers from 1 to 10 except 5 using a for loop and continue statement."
      ],
      "metadata": {
        "id": "vJSYi7GGrO38"
      },
      "id": "vJSYi7GGrO38"
    },
    {
      "cell_type": "code",
      "source": [
        "for i in range(1,11,1):\n",
        "  if i==5:\n",
        "    continue\n",
        "  print(i)"
      ],
      "metadata": {
        "colab": {
          "base_uri": "https://localhost:8080/"
        },
        "id": "9KEsYLnFra1l",
        "outputId": "70c41419-f77c-44be-b278-7717c222344f"
      },
      "id": "9KEsYLnFra1l",
      "execution_count": 19,
      "outputs": [
        {
          "output_type": "stream",
          "name": "stdout",
          "text": [
            "1\n",
            "2\n",
            "3\n",
            "4\n",
            "6\n",
            "7\n",
            "8\n",
            "9\n",
            "10\n"
          ]
        }
      ]
    },
    {
      "cell_type": "markdown",
      "source": [
        "##Assignment 10: pass Statement\n",
        "####Write a program that defines an empty function using the pass statement."
      ],
      "metadata": {
        "id": "yYlUkjc2rrbY"
      },
      "id": "yYlUkjc2rrbY"
    },
    {
      "cell_type": "code",
      "source": [
        "def empty():\n",
        "  pass\n",
        "print(empty())"
      ],
      "metadata": {
        "colab": {
          "base_uri": "https://localhost:8080/"
        },
        "id": "YZ7-RIw_rqvB",
        "outputId": "b9493181-ea9f-4b3d-bb7e-d926f9869a54"
      },
      "id": "YZ7-RIw_rqvB",
      "execution_count": 23,
      "outputs": [
        {
          "output_type": "stream",
          "name": "stdout",
          "text": [
            "None\n"
          ]
        }
      ]
    },
    {
      "cell_type": "markdown",
      "source": [
        "##Assignment 11: Combining Loops and Conditionals\n",
        "####Write a program that asks the user to input a number and prints all the even numbers from 1 to that number using a for loop."
      ],
      "metadata": {
        "id": "e-DxTk1psRd-"
      },
      "id": "e-DxTk1psRd-"
    },
    {
      "cell_type": "code",
      "source": [
        "a=int(input('enter limit: '))\n",
        "for i in range(1,a+1,1):\n",
        "  if i%2==0:\n",
        "    print(i)"
      ],
      "metadata": {
        "colab": {
          "base_uri": "https://localhost:8080/"
        },
        "id": "Np9j-IF0sccO",
        "outputId": "4b5cf8f5-b396-44a3-f820-21244af4d7f9"
      },
      "id": "Np9j-IF0sccO",
      "execution_count": 27,
      "outputs": [
        {
          "output_type": "stream",
          "name": "stdout",
          "text": [
            "enter limit: 12\n",
            "2\n",
            "4\n",
            "6\n",
            "8\n",
            "10\n",
            "12\n"
          ]
        }
      ]
    },
    {
      "cell_type": "markdown",
      "source": [
        "##Assignment 12: Factorial Calculation\n",
        "####Write a program that calculates the factorial of a number input by the user using a while loop."
      ],
      "metadata": {
        "id": "aut73QQitNH_"
      },
      "id": "aut73QQitNH_"
    },
    {
      "cell_type": "code",
      "source": [
        "a=int(input('enter a number: '))\n",
        "m=1\n",
        "while a>0:\n",
        "  m*=a\n",
        "  a-=1\n",
        "print(m)"
      ],
      "metadata": {
        "colab": {
          "base_uri": "https://localhost:8080/"
        },
        "id": "RVgJYgJCtUfn",
        "outputId": "2de55d3f-009e-4c90-eae4-07cb970c5aff"
      },
      "id": "RVgJYgJCtUfn",
      "execution_count": 28,
      "outputs": [
        {
          "output_type": "stream",
          "name": "stdout",
          "text": [
            "enter a number: 5\n",
            "120\n"
          ]
        }
      ]
    },
    {
      "cell_type": "markdown",
      "source": [
        "##Assignment 13: Sum of Digits\n",
        "####Write a program that calculates the sum of the digits of a number input by the user using a while loop."
      ],
      "metadata": {
        "id": "E3RtX3i2tvqH"
      },
      "id": "E3RtX3i2tvqH"
    },
    {
      "cell_type": "code",
      "source": [
        "a=int(input('enter a number: '))\n",
        "sum=0\n",
        "temp=0\n",
        "while a>0:\n",
        "  temp=a%10\n",
        "  a=a//10\n",
        "  sum+=temp\n",
        "print(sum)"
      ],
      "metadata": {
        "colab": {
          "base_uri": "https://localhost:8080/"
        },
        "id": "KydDbro9t6nV",
        "outputId": "c97fab85-9b4c-40b5-8d69-d13d3ec41c71"
      },
      "id": "KydDbro9t6nV",
      "execution_count": 29,
      "outputs": [
        {
          "output_type": "stream",
          "name": "stdout",
          "text": [
            "enter a number: 153\n",
            "9\n"
          ]
        }
      ]
    },
    {
      "cell_type": "markdown",
      "source": [
        "##Assignment 14: Prime Number Check\n",
        "####Write a program that checks if a number input by the user is a prime number using a for loop."
      ],
      "metadata": {
        "id": "bQKVpdKEuUrf"
      },
      "id": "bQKVpdKEuUrf"
    },
    {
      "cell_type": "code",
      "source": [
        "a=int(input('enter a number: '))\n",
        "s=0\n",
        "for i in range(2,a,1):\n",
        "  if a%i==0:\n",
        "    s+=1\n",
        "if s==0:\n",
        "  print(f\"{a} is prime number\")\n",
        "else:\n",
        "  print(f\"{a} is not prime number\")"
      ],
      "metadata": {
        "colab": {
          "base_uri": "https://localhost:8080/"
        },
        "id": "qhuAdRRoucp5",
        "outputId": "85db26c5-03b8-4716-b4d9-7acdeb372270"
      },
      "id": "qhuAdRRoucp5",
      "execution_count": 32,
      "outputs": [
        {
          "output_type": "stream",
          "name": "stdout",
          "text": [
            "enter a number: 14\n",
            "14 is not prime number\n"
          ]
        }
      ]
    },
    {
      "cell_type": "markdown",
      "source": [
        "##Assignment 15: Fibonacci Sequence\n",
        "####Write a program that prints the first n Fibonacci numbers, where n is input by the user."
      ],
      "metadata": {
        "id": "p0TxvPLFvZ3h"
      },
      "id": "p0TxvPLFvZ3h"
    },
    {
      "cell_type": "code",
      "source": [
        "n=int(input('enter a number: '))\n",
        "a,b=0,1\n",
        "sum=0\n",
        "while sum<n:\n",
        "  a,b=b,a+b\n",
        "  sum+=1\n",
        "  print(a)"
      ],
      "metadata": {
        "colab": {
          "base_uri": "https://localhost:8080/"
        },
        "id": "9ZtfytaTvdFs",
        "outputId": "df8e9370-b279-4bc6-b285-63ce1f90dd44"
      },
      "id": "9ZtfytaTvdFs",
      "execution_count": 41,
      "outputs": [
        {
          "output_type": "stream",
          "name": "stdout",
          "text": [
            "enter a number: 15\n",
            "1\n",
            "1\n",
            "2\n",
            "3\n",
            "5\n",
            "8\n",
            "13\n",
            "21\n",
            "34\n",
            "55\n",
            "89\n",
            "144\n",
            "233\n",
            "377\n",
            "610\n"
          ]
        }
      ]
    }
  ],
  "metadata": {
    "kernelspec": {
      "display_name": "Python 3",
      "language": "python",
      "name": "python3"
    },
    "language_info": {
      "codemirror_mode": {
        "name": "ipython",
        "version": 3
      },
      "file_extension": ".py",
      "mimetype": "text/x-python",
      "name": "python",
      "nbconvert_exporter": "python",
      "pygments_lexer": "ipython3",
      "version": "3.9.7"
    },
    "colab": {
      "provenance": [],
      "include_colab_link": true
    }
  },
  "nbformat": 4,
  "nbformat_minor": 5
}