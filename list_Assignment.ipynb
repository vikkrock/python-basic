{
  "cells": [
    {
      "cell_type": "markdown",
      "metadata": {
        "id": "view-in-github",
        "colab_type": "text"
      },
      "source": [
        "<a href=\"https://colab.research.google.com/github/vikkrock/python-basic/blob/main/list_Assignment.ipynb\" target=\"_parent\"><img src=\"https://colab.research.google.com/assets/colab-badge.svg\" alt=\"Open In Colab\"/></a>"
      ]
    },
    {
      "cell_type": "markdown",
      "metadata": {
        "id": "m3gvWl5U5ZZR"
      },
      "source": [
        "# Module 3: Data Structures Assignments\n",
        "## Lesson 3.1: Lists\n",
        "\n",
        "\n"
      ],
      "id": "m3gvWl5U5ZZR"
    },
    {
      "cell_type": "markdown",
      "source": [
        "### Assignment 1: Creating and Accessing Lists\n",
        "\n",
        "Create a list of the first 20 positive integers. Print the list."
      ],
      "metadata": {
        "id": "rjy_2HYm5fHl"
      },
      "id": "rjy_2HYm5fHl"
    },
    {
      "cell_type": "code",
      "execution_count": 12,
      "metadata": {
        "colab": {
          "base_uri": "https://localhost:8080/"
        },
        "id": "cnCz5ozQ5ZZX",
        "outputId": "e352dba7-f285-46f0-8cb1-1876d7ffcd5f"
      },
      "outputs": [
        {
          "output_type": "execute_result",
          "data": {
            "text/plain": [
              "[1, 2, 3, 4, 5, 6, 7, 8, 9, 10, 11, 12, 13, 14, 15, 16, 17, 18, 19]"
            ]
          },
          "metadata": {},
          "execution_count": 12
        }
      ],
      "source": [
        "lst=[i for i in range(1,20,1)]\n",
        "lst"
      ],
      "id": "cnCz5ozQ5ZZX"
    },
    {
      "cell_type": "markdown",
      "source": [
        "### Assignment 2: Accessing List Elements\n",
        "\n",
        "Print the first, middle, and last elements of the list created in Assignment 1.\n"
      ],
      "metadata": {
        "id": "jclnvjLv6S8D"
      },
      "id": "jclnvjLv6S8D"
    },
    {
      "cell_type": "code",
      "source": [
        "print(f'first element is {lst[0]}')\n",
        "print(f'middle element is {lst[len(lst)//2]}')\n",
        "print(f'last element is {lst[-1]}')"
      ],
      "metadata": {
        "colab": {
          "base_uri": "https://localhost:8080/"
        },
        "id": "eF3YCmLL6aqI",
        "outputId": "6eae2579-4843-4632-ba65-8f64433e2abd"
      },
      "id": "eF3YCmLL6aqI",
      "execution_count": 10,
      "outputs": [
        {
          "output_type": "stream",
          "name": "stdout",
          "text": [
            "first element is 1\n",
            "middle element is 10\n",
            "last element is 19\n"
          ]
        }
      ]
    },
    {
      "cell_type": "markdown",
      "source": [
        "### Assignment 3: List Slicing\n",
        "\n",
        "Print the first five elements, the last five elements, and the elements from index 5 to 15 of the list created in Assignment 1."
      ],
      "metadata": {
        "id": "3_r-qOlO6tXK"
      },
      "id": "3_r-qOlO6tXK"
    },
    {
      "cell_type": "code",
      "source": [
        "print(f'first 5 element are {lst[:5]}')\n",
        "print(f'last 5 element are {lst[-5:]}')\n",
        "print(f'elements from index 5 to 15 of the list {lst[5:15]}')"
      ],
      "metadata": {
        "colab": {
          "base_uri": "https://localhost:8080/"
        },
        "id": "doENg5B663as",
        "outputId": "f8c312e1-0826-4bfe-acee-749b6b2a0f6b"
      },
      "id": "doENg5B663as",
      "execution_count": 13,
      "outputs": [
        {
          "output_type": "stream",
          "name": "stdout",
          "text": [
            "first 5 element are [1, 2, 3, 4, 5]\n",
            "last 5 element are [15, 16, 17, 18, 19]\n",
            "elements from index 5 to 15 of the list [6, 7, 8, 9, 10, 11, 12, 13, 14, 15]\n"
          ]
        }
      ]
    },
    {
      "cell_type": "markdown",
      "source": [
        "### Assignment 4: List Comprehensions\n",
        "\n",
        "Create a new list containing the squares of the first 10 positive integers using a list comprehension. Print the new list."
      ],
      "metadata": {
        "id": "P1p-vyCV9vXd"
      },
      "id": "P1p-vyCV9vXd"
    },
    {
      "cell_type": "code",
      "source": [
        "sq=[x**2 for x in range(1,11,1)]\n",
        "sq"
      ],
      "metadata": {
        "colab": {
          "base_uri": "https://localhost:8080/"
        },
        "id": "e3brkdiE90K1",
        "outputId": "616da21a-31ae-419e-894f-e763f6788f9c"
      },
      "id": "e3brkdiE90K1",
      "execution_count": 14,
      "outputs": [
        {
          "output_type": "execute_result",
          "data": {
            "text/plain": [
              "[1, 4, 9, 16, 25, 36, 49, 64, 81, 100]"
            ]
          },
          "metadata": {},
          "execution_count": 14
        }
      ]
    },
    {
      "cell_type": "markdown",
      "source": [],
      "metadata": {
        "id": "WBJYnW8Z-Dsb"
      },
      "id": "WBJYnW8Z-Dsb"
    },
    {
      "cell_type": "markdown",
      "source": [
        "###Assignment 5: Filtering Lists\n",
        "Create a new list containing only the even numbers from the list created in Assignment 1 using a list comprehension. Print the new list."
      ],
      "metadata": {
        "id": "7LavgwHa-Iio"
      },
      "id": "7LavgwHa-Iio"
    },
    {
      "cell_type": "code",
      "source": [
        "even= [ x for x in lst if x%2==0]\n",
        "even"
      ],
      "metadata": {
        "colab": {
          "base_uri": "https://localhost:8080/"
        },
        "id": "O2hHoU-i-LvG",
        "outputId": "a5619619-1000-486c-f7af-3fcb07b616ab"
      },
      "id": "O2hHoU-i-LvG",
      "execution_count": 15,
      "outputs": [
        {
          "output_type": "execute_result",
          "data": {
            "text/plain": [
              "[2, 4, 6, 8, 10, 12, 14, 16, 18]"
            ]
          },
          "metadata": {},
          "execution_count": 15
        }
      ]
    },
    {
      "cell_type": "markdown",
      "source": [
        "### Assignment 6: List Methods\n",
        "\n",
        "Create a list of random numbers and sort it in ascending and descending order. Remove the duplicates from the list and print the modified list."
      ],
      "metadata": {
        "id": "2e9n9EEJ-aNm"
      },
      "id": "2e9n9EEJ-aNm"
    },
    {
      "cell_type": "code",
      "source": [
        "import random\n",
        "random_num=[random.randint(1,20) for i in range(15)]\n",
        "print(f'original list: {random_num}')\n",
        "\n",
        "print(f'sorted list:{sorted(random_num)}')\n",
        "print(f'reverse sorted list:{sorted(random_num, reverse=True)}')\n",
        "print(f'without duplicate list: {list(set(random_num))}')"
      ],
      "metadata": {
        "colab": {
          "base_uri": "https://localhost:8080/"
        },
        "id": "Yq4XQzrJ-sgA",
        "outputId": "c02586f3-4334-4a4b-9350-eea58c2361c1"
      },
      "id": "Yq4XQzrJ-sgA",
      "execution_count": 19,
      "outputs": [
        {
          "output_type": "stream",
          "name": "stdout",
          "text": [
            "original list: [12, 8, 7, 15, 14, 5, 11, 13, 15, 6, 9, 14, 14, 14, 6]\n",
            "sorted list:[5, 6, 6, 7, 8, 9, 11, 12, 13, 14, 14, 14, 14, 15, 15]\n",
            "reverse sorted list:[15, 15, 14, 14, 14, 14, 13, 12, 11, 9, 8, 7, 6, 6, 5]\n",
            "without duplicate list: [5, 6, 7, 8, 9, 11, 12, 13, 14, 15]\n"
          ]
        }
      ]
    },
    {
      "cell_type": "markdown",
      "source": [
        "### Assignment 7: Nested Lists\n",
        "\n",
        "Create a nested list representing a 3x3 matrix and print the matrix. Access and print the element at the second row and third column."
      ],
      "metadata": {
        "id": "jGwWYtzPC4iL"
      },
      "id": "jGwWYtzPC4iL"
    },
    {
      "cell_type": "code",
      "source": [
        "matrix = [\n",
        "    [1, 2, 3],\n",
        "    [4, 5, 6],\n",
        "    [7, 8, 9]\n",
        "]\n",
        "print(\"Matrix:\")\n",
        "for row in matrix:\n",
        "    print(row)\n",
        "print(f\"Element at second row and third column: {matrix[1][2]}\")"
      ],
      "metadata": {
        "colab": {
          "base_uri": "https://localhost:8080/"
        },
        "id": "cOxKmhcsIFx2",
        "outputId": "bbf99b06-6710-408a-ae46-ed81f46803dc"
      },
      "id": "cOxKmhcsIFx2",
      "execution_count": 22,
      "outputs": [
        {
          "output_type": "stream",
          "name": "stdout",
          "text": [
            "Matrix:\n",
            "[1, 2, 3]\n",
            "[4, 5, 6]\n",
            "[7, 8, 9]\n",
            "Element at second row and third column: 6\n"
          ]
        }
      ]
    },
    {
      "cell_type": "markdown",
      "source": [
        "### Assignment 8: List of Dictionaries\n",
        "\n",
        "Create a list of dictionaries where each dictionary represents a student with keys 'name' and 'score'. Sort the list of dictionaries by the 'score' in descending order and print the sorted list."
      ],
      "metadata": {
        "id": "s_9pnGU4IdZV"
      },
      "id": "s_9pnGU4IdZV"
    },
    {
      "cell_type": "code",
      "source": [
        "students = [\n",
        "    {'name': 'Alice', 'score': 88},\n",
        "    {'name': 'Bob', 'score': 72},\n",
        "    {'name': 'Charlie', 'score': 95},\n",
        "    {'name': 'David', 'score': 65},\n",
        "    {'name': 'Eve', 'score': 78}\n",
        "]\n",
        "sorted_student=sorted(students,key=lambda x:x['score'],reverse=True)\n",
        "print ('Sorted students by score in descending order:')\n",
        "for i in sorted_student:\n",
        "  print(i)"
      ],
      "metadata": {
        "colab": {
          "base_uri": "https://localhost:8080/"
        },
        "id": "pa9ShErbIuCD",
        "outputId": "6cee9d5c-4e00-428f-db61-61d7422532ee"
      },
      "id": "pa9ShErbIuCD",
      "execution_count": 24,
      "outputs": [
        {
          "output_type": "stream",
          "name": "stdout",
          "text": [
            "Sorted students by score in descending order:\n",
            "{'name': 'Charlie', 'score': 95}\n",
            "{'name': 'Alice', 'score': 88}\n",
            "{'name': 'Eve', 'score': 78}\n",
            "{'name': 'Bob', 'score': 72}\n",
            "{'name': 'David', 'score': 65}\n"
          ]
        }
      ]
    },
    {
      "cell_type": "markdown",
      "source": [
        "### Assignment 9: Matrix Transposition\n",
        "\n",
        "Write a function that takes a 3x3 matrix (nested list) as input and returns its transpose. Print the original and transposed matrices."
      ],
      "metadata": {
        "id": "x-Fqf63aLoJ2"
      },
      "id": "x-Fqf63aLoJ2"
    },
    {
      "cell_type": "code",
      "source": [
        "def transpose_matrix(matrix):\n",
        "  trans=[[matrix[j][i] for j in range(len(matrix))]for i in range(len(matrix[0]))]\n",
        "  return trans\n",
        "matrix = [\n",
        "    [1, 2, 3],\n",
        "    [4, 5, 6],\n",
        "    [7, 8, 9]]\n",
        "trans= transpose_matrix(matrix)\n",
        "print('original matrix: ')\n",
        "for row in matrix:\n",
        "  print(row)\n",
        "print('transposed matrix:')\n",
        "for row in trans:\n",
        "  print(row)"
      ],
      "metadata": {
        "colab": {
          "base_uri": "https://localhost:8080/"
        },
        "id": "dCXFwxieLxc2",
        "outputId": "7363d996-4da4-43cf-f13a-25bdc3777c2e"
      },
      "id": "dCXFwxieLxc2",
      "execution_count": 25,
      "outputs": [
        {
          "output_type": "stream",
          "name": "stdout",
          "text": [
            "original matrix: \n",
            "[1, 2, 3]\n",
            "[4, 5, 6]\n",
            "[7, 8, 9]\n",
            "transposed matrix:\n",
            "[1, 4, 7]\n",
            "[2, 5, 8]\n",
            "[3, 6, 9]\n"
          ]
        }
      ]
    },
    {
      "cell_type": "markdown",
      "source": [
        "### Assignment 10: Flattening a Nested List\n",
        "\n",
        "Write a function that takes a nested list and flattens it into a single list. Print the original and flattened lists."
      ],
      "metadata": {
        "id": "1bW8mjMLOT3s"
      },
      "id": "1bW8mjMLOT3s"
    },
    {
      "cell_type": "code",
      "source": [
        "def flat(lst):\n",
        "  f=[i for s in lst for i in s]\n",
        "  return f\n",
        "lst=[\n",
        "    [1, 2, 3],\n",
        "    [4, 5, 6],\n",
        "    [7, 8, 9]]\n",
        "flatten=flat(lst)\n",
        "print('original list: ')\n",
        "for row in lst:\n",
        "  print(row)\n",
        "print('flatten list')\n",
        "print(flatten)"
      ],
      "metadata": {
        "colab": {
          "base_uri": "https://localhost:8080/"
        },
        "id": "cY8zxX24OhHL",
        "outputId": "fda7ee11-e1be-48b2-f574-ad7f517b3062"
      },
      "id": "cY8zxX24OhHL",
      "execution_count": 27,
      "outputs": [
        {
          "output_type": "stream",
          "name": "stdout",
          "text": [
            "original list: \n",
            "[1, 2, 3]\n",
            "[4, 5, 6]\n",
            "[7, 8, 9]\n",
            "flatten list\n",
            "[1, 2, 3, 4, 5, 6, 7, 8, 9]\n"
          ]
        }
      ]
    },
    {
      "cell_type": "markdown",
      "source": [
        "### Assignment 11: List Manipulation\n",
        "\n",
        "Create a list of the first 10 positive integers. Remove the elements at indices 2, 4, and 6, and insert the element '99' at index 5. Print the modified list."
      ],
      "metadata": {
        "id": "7yWNSaVsPzwP"
      },
      "id": "7yWNSaVsPzwP"
    },
    {
      "cell_type": "code",
      "source": [
        "lst=[x for x in range(1,11,1)]\n",
        "print(f'orginal list: {lst}')\n",
        "lst.pop(2)\n",
        "lst.pop(4)\n",
        "lst.pop(6)\n",
        "lst.insert(5,99)\n",
        "\n",
        "print(f'modified list: {lst}')"
      ],
      "metadata": {
        "colab": {
          "base_uri": "https://localhost:8080/"
        },
        "id": "V9HwgT9gP65z",
        "outputId": "816da6d0-7444-47c9-ded8-cc706954e168"
      },
      "id": "V9HwgT9gP65z",
      "execution_count": 28,
      "outputs": [
        {
          "output_type": "stream",
          "name": "stdout",
          "text": [
            "orginal list: [1, 2, 3, 4, 5, 6, 7, 8, 9, 10]\n",
            "modified list: [1, 2, 4, 5, 7, 99, 8, 10]\n"
          ]
        }
      ]
    },
    {
      "cell_type": "markdown",
      "source": [
        "### Assignment 12: List Zipping\n",
        "\n",
        "Create two lists of the same length. Use the `zip` function to combine these lists into a list of tuples and print the result."
      ],
      "metadata": {
        "id": "QdDC5p7QRZfF"
      },
      "id": "QdDC5p7QRZfF"
    },
    {
      "cell_type": "code",
      "source": [
        "lst1=[1,2,3,4]\n",
        "lst2=['a','b','c','d']\n",
        "print(list(zip(lst1,lst2)))"
      ],
      "metadata": {
        "colab": {
          "base_uri": "https://localhost:8080/"
        },
        "id": "ociQ4MJeRgw3",
        "outputId": "f8a17b96-2569-4e87-f7c8-6b213f17d56e"
      },
      "id": "ociQ4MJeRgw3",
      "execution_count": 29,
      "outputs": [
        {
          "output_type": "stream",
          "name": "stdout",
          "text": [
            "[(1, 'a'), (2, 'b'), (3, 'c'), (4, 'd')]\n"
          ]
        }
      ]
    },
    {
      "cell_type": "markdown",
      "source": [
        "### Assignment 13: List Reversal\n",
        "\n",
        "Write a function that takes a list and returns a new list with the elements in reverse order. Print the original and reversed lists."
      ],
      "metadata": {
        "id": "9Zv7ddf_SkkN"
      },
      "id": "9Zv7ddf_SkkN"
    },
    {
      "cell_type": "code",
      "source": [
        "def reversed(lst):\n",
        "  return lst[::-1]\n",
        "list1=[1,4,6,7,8]\n",
        "print(f'original list: {list1}')\n",
        "print(f'reversed list: {reversed(list1)}')"
      ],
      "metadata": {
        "colab": {
          "base_uri": "https://localhost:8080/"
        },
        "id": "_mG7blWFSlvZ",
        "outputId": "5b8fe658-84c0-475f-cf4f-a55e6e169d1e"
      },
      "id": "_mG7blWFSlvZ",
      "execution_count": 30,
      "outputs": [
        {
          "output_type": "stream",
          "name": "stdout",
          "text": [
            "original list: [1, 4, 6, 7, 8]\n",
            "reversed list: [8, 7, 6, 4, 1]\n"
          ]
        }
      ]
    },
    {
      "cell_type": "markdown",
      "source": [
        "### Assignment 14: List Rotation\n",
        "\n",
        "Write a function that rotates a list by n positions. Print the original and rotated lists."
      ],
      "metadata": {
        "id": "qSwvZMqvTQfh"
      },
      "id": "qSwvZMqvTQfh"
    },
    {
      "cell_type": "code",
      "source": [
        "def rotate(lst,n):\n",
        "  return lst[n:]+lst[:n]\n",
        "list1= [1,2,3,4,5,6,7,8]\n",
        "m=int(input('enter position from which need to rotate: '))\n",
        "print(f'original: {list1}')\n",
        "print(f'rotated : {rotate(list1,m)}')"
      ],
      "metadata": {
        "colab": {
          "base_uri": "https://localhost:8080/"
        },
        "id": "nRlGwdYDTWQ4",
        "outputId": "c0de4b5b-60df-4a50-b061-e774e4a76e67"
      },
      "id": "nRlGwdYDTWQ4",
      "execution_count": 31,
      "outputs": [
        {
          "output_type": "stream",
          "name": "stdout",
          "text": [
            "enter position from which need to rotate: 4\n",
            "original: [1, 2, 3, 4, 5, 6, 7, 8]\n",
            "rotated : [5, 6, 7, 8, 1, 2, 3, 4]\n"
          ]
        }
      ]
    },
    {
      "cell_type": "markdown",
      "source": [
        "### Assignment 15: List Intersection\n",
        "\n",
        "Write a function that takes two lists and returns a new list containing only the elements that are present in both lists. Print the intersected list."
      ],
      "metadata": {
        "id": "gkrNrMKiTWqp"
      },
      "id": "gkrNrMKiTWqp"
    },
    {
      "cell_type": "code",
      "source": [
        "def list_intersection(lst1,lst2):\n",
        "  return [x for x in lst1 if x in lst2]\n",
        "list1=[1,2,5,7,8,9,0]\n",
        "list2=[2,4,3,7,9,0]\n",
        "print(f'list1: {list1}')\n",
        "print(f'list2: {list2}')\n",
        "print(f'intersection: {list_intersection(list1,list2)}')"
      ],
      "metadata": {
        "colab": {
          "base_uri": "https://localhost:8080/"
        },
        "id": "ZzXrToCNVOSa",
        "outputId": "69e8822b-b145-45d4-de1d-81a50fad513e"
      },
      "id": "ZzXrToCNVOSa",
      "execution_count": 32,
      "outputs": [
        {
          "output_type": "stream",
          "name": "stdout",
          "text": [
            "list1: [1, 2, 5, 7, 8, 9, 0]\n",
            "list2: [2, 4, 3, 7, 9, 0]\n",
            "intersection: [2, 7, 9, 0]\n"
          ]
        }
      ]
    }
  ],
  "metadata": {
    "kernelspec": {
      "display_name": "Python 3",
      "language": "python",
      "name": "python3"
    },
    "language_info": {
      "codemirror_mode": {
        "name": "ipython",
        "version": 3
      },
      "file_extension": ".py",
      "mimetype": "text/x-python",
      "name": "python",
      "nbconvert_exporter": "python",
      "pygments_lexer": "ipython3",
      "version": "3.9.7"
    },
    "colab": {
      "provenance": [],
      "include_colab_link": true
    }
  },
  "nbformat": 4,
  "nbformat_minor": 5
}