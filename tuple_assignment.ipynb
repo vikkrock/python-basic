{
  "cells": [
    {
      "cell_type": "markdown",
      "metadata": {
        "id": "view-in-github",
        "colab_type": "text"
      },
      "source": [
        "<a href=\"https://colab.research.google.com/github/vikkrock/python-basic/blob/main/tuple_assignment.ipynb\" target=\"_parent\"><img src=\"https://colab.research.google.com/assets/colab-badge.svg\" alt=\"Open In Colab\"/></a>"
      ]
    },
    {
      "cell_type": "markdown",
      "id": "6cade624",
      "metadata": {
        "id": "6cade624"
      },
      "source": [
        "# Module 3: Data Structures Assignments\n",
        "## Lesson 3.2: Tuples\n",
        "\n",
        "\n",
        "\n",
        "\n",
        "\n",
        "\n",
        "\n",
        "\n",
        "\n",
        "\n"
      ]
    },
    {
      "cell_type": "markdown",
      "source": [
        "### Assignment 1: Creating and Accessing Tuples\n",
        "\n",
        "Create a tuple with the first 10 positive integers. Print the tuple."
      ],
      "metadata": {
        "id": "zmv0PtSfCZho"
      },
      "id": "zmv0PtSfCZho"
    },
    {
      "cell_type": "code",
      "execution_count": 2,
      "metadata": {
        "colab": {
          "base_uri": "https://localhost:8080/"
        },
        "id": "YCaS_F3BCTSI",
        "outputId": "91c4f1cf-2a87-4e28-d744-aafcb7c4d795"
      },
      "outputs": [
        {
          "output_type": "execute_result",
          "data": {
            "text/plain": [
              "(1, 2, 3, 4, 5, 6, 7, 8, 9, 10)"
            ]
          },
          "metadata": {},
          "execution_count": 2
        }
      ],
      "source": [
        "tpl=tuple(range(1,11))\n",
        "tpl"
      ],
      "id": "YCaS_F3BCTSI"
    },
    {
      "cell_type": "markdown",
      "source": [
        "### Assignment 2: Accessing Tuple Elements\n",
        "\n",
        "Print the first, middle, and last elements of the tuple created in Assignment 1."
      ],
      "metadata": {
        "id": "NAJfota2Cvki"
      },
      "id": "NAJfota2Cvki"
    },
    {
      "cell_type": "code",
      "source": [
        "print(f'first: {tpl[0]}')\n",
        "print(f'middle: {tpl[len(tpl)//2]}')\n",
        "print(f'last: {tpl[-1]}')"
      ],
      "metadata": {
        "colab": {
          "base_uri": "https://localhost:8080/"
        },
        "id": "N74oeJkPC5I7",
        "outputId": "c29a3bf5-c1a7-4ba1-9c0c-0a1ca5748061"
      },
      "id": "N74oeJkPC5I7",
      "execution_count": 3,
      "outputs": [
        {
          "output_type": "stream",
          "name": "stdout",
          "text": [
            "first: 1\n",
            "middle: 6\n",
            "last: 10\n"
          ]
        }
      ]
    },
    {
      "cell_type": "markdown",
      "source": [
        "### Assignment 3: Tuple Slicing\n",
        "\n",
        "Print the first three elements, the last three elements, and the elements from index 2 to 5 of the tuple created in Assignment 1."
      ],
      "metadata": {
        "id": "OnAz50u8DQqA"
      },
      "id": "OnAz50u8DQqA"
    },
    {
      "cell_type": "code",
      "source": [
        "print(f'1st three element: {tpl[:3]}')\n",
        "print(f'last three elements: {tpl[-3:]}')\n",
        "print(f'elements from index 2 to 5: {tpl[2:5]}')"
      ],
      "metadata": {
        "colab": {
          "base_uri": "https://localhost:8080/"
        },
        "id": "AvwQ6pdWDRdk",
        "outputId": "738469e9-7340-4615-df09-91e1c5c7fe18"
      },
      "id": "AvwQ6pdWDRdk",
      "execution_count": 4,
      "outputs": [
        {
          "output_type": "stream",
          "name": "stdout",
          "text": [
            "1st three element: (1, 2, 3)\n",
            "last three elements: (8, 9, 10)\n",
            "elements from index 2 to 5: (3, 4, 5)\n"
          ]
        }
      ]
    },
    {
      "cell_type": "markdown",
      "source": [
        "### Assignment 4: Nested Tuples\n",
        "\n",
        "Create a nested tuple representing a 3x3 matrix and print the matrix. Access and print the element at the second row and third column."
      ],
      "metadata": {
        "id": "4ltzV3HBDv3Z"
      },
      "id": "4ltzV3HBDv3Z"
    },
    {
      "cell_type": "code",
      "source": [
        "matrix = (\n",
        "    (1, 2, 3),\n",
        "    (4, 5, 6),\n",
        "    (7, 8, 9)\n",
        ")\n",
        "print('Matrix: ')\n",
        "for i in matrix:\n",
        "  print(i)\n",
        "print(f'element at the second row and third column: {matrix[1][2]}')"
      ],
      "metadata": {
        "colab": {
          "base_uri": "https://localhost:8080/"
        },
        "id": "0ON7IejSDzXY",
        "outputId": "30a6b5c2-ae89-471d-cad6-3b15577852e4"
      },
      "id": "0ON7IejSDzXY",
      "execution_count": 6,
      "outputs": [
        {
          "output_type": "stream",
          "name": "stdout",
          "text": [
            "Matrix: \n",
            "(1, 2, 3)\n",
            "(4, 5, 6)\n",
            "(7, 8, 9)\n",
            "element at the second row and third column: 6\n"
          ]
        }
      ]
    },
    {
      "cell_type": "markdown",
      "source": [
        "\n",
        "### Assignment 5: Tuple Concatenation\n",
        "\n",
        "Concatenate two tuples: (1, 2, 3) and (4, 5, 6). Print the resulting tuple."
      ],
      "metadata": {
        "id": "pJpFSBIdEcx5"
      },
      "id": "pJpFSBIdEcx5"
    },
    {
      "cell_type": "code",
      "source": [
        "tpl1=(1,2,3)\n",
        "tpl2=(4,5,6)\n",
        "con=tpl1+tpl2\n",
        "print(f'Concatenated Tuple: {con}')"
      ],
      "metadata": {
        "colab": {
          "base_uri": "https://localhost:8080/"
        },
        "id": "0Lm8NxS8EhpL",
        "outputId": "ce2853cc-95e1-4995-d2bd-6f18f50f03dc"
      },
      "id": "0Lm8NxS8EhpL",
      "execution_count": 7,
      "outputs": [
        {
          "output_type": "stream",
          "name": "stdout",
          "text": [
            "Concatenated Tuple: (1, 2, 3, 4, 5, 6)\n"
          ]
        }
      ]
    },
    {
      "cell_type": "markdown",
      "source": [
        "### Assignment 6: Tuple Methods\n",
        "\n",
        "Create a tuple with duplicate elements and count the occurrences of an element. Find the index of the first occurrence of an element in the tuple."
      ],
      "metadata": {
        "id": "JPChlUhPE7RY"
      },
      "id": "JPChlUhPE7RY"
    },
    {
      "cell_type": "code",
      "source": [
        "tpl=(1,1,2,3,3,5,6,7,8,7,9,7,0)\n",
        "print(f'count of occurence :{tpl.count(7)}')\n",
        "print(f'index of the first occurrence of an element: {tpl.index(3)}')"
      ],
      "metadata": {
        "colab": {
          "base_uri": "https://localhost:8080/"
        },
        "id": "BKe68ECyE7-C",
        "outputId": "7bb76d50-d0fd-42ed-ac58-28156e4e6580"
      },
      "id": "BKe68ECyE7-C",
      "execution_count": 9,
      "outputs": [
        {
          "output_type": "stream",
          "name": "stdout",
          "text": [
            "count of occurence :3\n",
            "index of the first occurrence of an element: 3\n"
          ]
        }
      ]
    },
    {
      "cell_type": "markdown",
      "source": [
        "### Assignment 7: Unpacking Tuples\n",
        "\n",
        "Create a tuple with 5 elements and unpack it into 5 variables. Print the variables."
      ],
      "metadata": {
        "id": "OocYgPsaE7Br"
      },
      "id": "OocYgPsaE7Br"
    },
    {
      "cell_type": "code",
      "source": [
        "tpl=(11,15,19,20,35)\n",
        "a,b,c,d,e=tpl\n",
        "print(a,b,c,d,e)"
      ],
      "metadata": {
        "colab": {
          "base_uri": "https://localhost:8080/"
        },
        "id": "yXR44ENyGIn9",
        "outputId": "7de40a07-8abb-4d9b-dc27-7c0fe6c00e1c"
      },
      "id": "yXR44ENyGIn9",
      "execution_count": 11,
      "outputs": [
        {
          "output_type": "stream",
          "name": "stdout",
          "text": [
            "11 15 19 20 35\n"
          ]
        }
      ]
    },
    {
      "cell_type": "markdown",
      "source": [
        "### Assignment 8: Tuple Conversion\n",
        "\n",
        "Convert a list of the first 5 positive integers to a tuple. Print the tuple."
      ],
      "metadata": {
        "id": "n_shQv4RGmrh"
      },
      "id": "n_shQv4RGmrh"
    },
    {
      "cell_type": "code",
      "source": [
        "lst=[1,2,3,4,5]\n",
        "tpl=tuple(lst)\n",
        "print(tpl)"
      ],
      "metadata": {
        "colab": {
          "base_uri": "https://localhost:8080/"
        },
        "id": "lofit1eyGndM",
        "outputId": "a1a7c465-860e-45ac-cebd-f2e9e3f71082"
      },
      "id": "lofit1eyGndM",
      "execution_count": 12,
      "outputs": [
        {
          "output_type": "stream",
          "name": "stdout",
          "text": [
            "(1, 2, 3, 4, 5)\n"
          ]
        }
      ]
    },
    {
      "cell_type": "markdown",
      "source": [
        "### Assignment 9: Tuple of Tuples\n",
        "\n",
        "Create a tuple containing 3 tuples, each with 3 elements. Print the tuple of tuples.\n"
      ],
      "metadata": {
        "id": "qoM3FSmzG3-m"
      },
      "id": "qoM3FSmzG3-m"
    },
    {
      "cell_type": "code",
      "source": [
        "tpl=(\n",
        "    (1,2,3),\n",
        "    (4,5,6),\n",
        "    (0,9,8))\n",
        "for i in tpl:\n",
        "  print(i)"
      ],
      "metadata": {
        "colab": {
          "base_uri": "https://localhost:8080/"
        },
        "id": "TTdV5d7wG4rY",
        "outputId": "b44a26c0-c0ac-4d6b-dd9b-b4e054fac9d2"
      },
      "id": "TTdV5d7wG4rY",
      "execution_count": 13,
      "outputs": [
        {
          "output_type": "stream",
          "name": "stdout",
          "text": [
            "(1, 2, 3)\n",
            "(4, 5, 6)\n",
            "(0, 9, 8)\n"
          ]
        }
      ]
    },
    {
      "cell_type": "markdown",
      "source": [
        "### Assignment 10: Tuple and List\n",
        "\n",
        "Create a tuple with the first 5 positive integers. Convert it to a list, append the number 6, and convert it back to a tuple. Print the resulting tuple."
      ],
      "metadata": {
        "id": "0xDZmn7THXHm"
      },
      "id": "0xDZmn7THXHm"
    },
    {
      "cell_type": "code",
      "source": [
        "tpl=(1,2,3,4,5)\n",
        "lst=list(tpl)\n",
        "print(f'list: {lst}')\n",
        "lst.append(6)\n",
        "print(f'list: {lst}')\n",
        "tpl1=tuple(lst)\n",
        "print(f'tuple: {tpl1}')"
      ],
      "metadata": {
        "colab": {
          "base_uri": "https://localhost:8080/"
        },
        "id": "NPvOZGZDHdB9",
        "outputId": "456319b5-a3df-4f45-c43d-38fdaa6bf7d6"
      },
      "id": "NPvOZGZDHdB9",
      "execution_count": 14,
      "outputs": [
        {
          "output_type": "stream",
          "name": "stdout",
          "text": [
            "list: [1, 2, 3, 4, 5]\n",
            "list: [1, 2, 3, 4, 5, 6]\n",
            "tuple: (1, 2, 3, 4, 5, 6)\n"
          ]
        }
      ]
    },
    {
      "cell_type": "markdown",
      "source": [
        "### Assignment 11: Tuple and String\n",
        "\n",
        "Create a tuple with the characters of a string. Join the tuple elements into a single string. Print the string."
      ],
      "metadata": {
        "id": "AKJAenIKIJpq"
      },
      "id": "AKJAenIKIJpq"
    },
    {
      "cell_type": "code",
      "source": [
        "tpl=('a','z','vk','vj','nk')\n",
        "z=''\n",
        "for i in tpl:\n",
        "  z+=i\n",
        "print(f'tuple elements into a single string: {z}')"
      ],
      "metadata": {
        "colab": {
          "base_uri": "https://localhost:8080/"
        },
        "id": "Cfyjth6UIQDy",
        "outputId": "94b52206-af97-4487-84f5-e7ed73e6f094"
      },
      "id": "Cfyjth6UIQDy",
      "execution_count": 15,
      "outputs": [
        {
          "output_type": "stream",
          "name": "stdout",
          "text": [
            "tuple elements into a single string: azvkvjnk\n"
          ]
        }
      ]
    },
    {
      "cell_type": "markdown",
      "source": [
        "### Assignment 12: Tuple and Dictionary\n",
        "\n",
        "Create a dictionary with tuple keys and integer values. Print the dictionary."
      ],
      "metadata": {
        "id": "sbKBUFVCI3z6"
      },
      "id": "sbKBUFVCI3z6"
    },
    {
      "cell_type": "code",
      "source": [
        "tpl_dict = {\n",
        "    (1, 2): 3,\n",
        "    (4, 5): 6,\n",
        "    (7, 8): 9\n",
        "}\n",
        "print(tpl_dict)"
      ],
      "metadata": {
        "colab": {
          "base_uri": "https://localhost:8080/"
        },
        "id": "tMiWkI9xI8zo",
        "outputId": "6f32ef7d-23f3-4661-8ee5-cfafe63c1bc5"
      },
      "id": "tMiWkI9xI8zo",
      "execution_count": 16,
      "outputs": [
        {
          "output_type": "stream",
          "name": "stdout",
          "text": [
            "{(1, 2): 3, (4, 5): 6, (7, 8): 9}\n"
          ]
        }
      ]
    },
    {
      "cell_type": "markdown",
      "source": [
        "\n",
        "### Assignment 13: Nested Tuple Iteration\n",
        "\n",
        "Create a nested tuple and iterate over the elements, printing each element."
      ],
      "metadata": {
        "id": "_s_pPlXwJWUt"
      },
      "id": "_s_pPlXwJWUt"
    },
    {
      "cell_type": "code",
      "source": [
        "nested_tpl = (\n",
        "    (1, 2, 3),\n",
        "    (4, 5, 6),\n",
        "    (7, 8, 9)\n",
        ")\n",
        "for i in nested_tpl:\n",
        "  for j in i:\n",
        "    print(j)"
      ],
      "metadata": {
        "colab": {
          "base_uri": "https://localhost:8080/"
        },
        "id": "Z7d8W2VIJXQm",
        "outputId": "547b2933-5d60-44dd-e125-4018f98a29fc"
      },
      "id": "Z7d8W2VIJXQm",
      "execution_count": 18,
      "outputs": [
        {
          "output_type": "stream",
          "name": "stdout",
          "text": [
            "1\n",
            "2\n",
            "3\n",
            "4\n",
            "5\n",
            "6\n",
            "7\n",
            "8\n",
            "9\n"
          ]
        }
      ]
    },
    {
      "cell_type": "markdown",
      "source": [
        "### Assignment 14: Tuple and Set\n",
        "\n",
        "Create a tuple with duplicate elements. Convert it to a set to remove duplicates and print the resulting set."
      ],
      "metadata": {
        "id": "KZZJtU6xJtkO"
      },
      "id": "KZZJtU6xJtkO"
    },
    {
      "cell_type": "code",
      "source": [
        "tpl=(1,2,3,2,4,5,2,3,4)\n",
        "print(set(tpl))"
      ],
      "metadata": {
        "colab": {
          "base_uri": "https://localhost:8080/"
        },
        "id": "dOOEIY5dJ162",
        "outputId": "e603a47d-b73a-41b1-b8f0-b74629c1130b"
      },
      "id": "dOOEIY5dJ162",
      "execution_count": 19,
      "outputs": [
        {
          "output_type": "stream",
          "name": "stdout",
          "text": [
            "{1, 2, 3, 4, 5}\n"
          ]
        }
      ]
    },
    {
      "cell_type": "markdown",
      "source": [
        "### Assignment 15: Tuple Functions\n",
        "\n",
        "Write functions that take a tuple and return the minimum, maximum, and sum of the elements. Print the results for a sample tuple."
      ],
      "metadata": {
        "id": "uMb0GyaDJ2W5"
      },
      "id": "uMb0GyaDJ2W5"
    },
    {
      "cell_type": "code",
      "source": [
        "sample_tpl = (1, 2, 3, 4, 5)\n",
        "def mx(tpl):\n",
        "  return max(tpl)\n",
        "def mn(tpl):\n",
        "  return min(tpl)\n",
        "def sm(tpl):\n",
        "  return sum(tpl)\n",
        "\n",
        "print(f'max from tuple: {mx(sample_tpl)}')\n",
        "print(f'min from tuple: {mn(sample_tpl)}')\n",
        "print(f'sum from tuple: {sm(sample_tpl)}')"
      ],
      "metadata": {
        "colab": {
          "base_uri": "https://localhost:8080/"
        },
        "id": "P6tHVfqXKD2s",
        "outputId": "09e94d93-6493-474b-c567-9f9b14eff626"
      },
      "id": "P6tHVfqXKD2s",
      "execution_count": 20,
      "outputs": [
        {
          "output_type": "stream",
          "name": "stdout",
          "text": [
            "max from tuple: 5\n",
            "min from tuple: 1\n",
            "sum from tuple: 15\n"
          ]
        }
      ]
    }
  ],
  "metadata": {
    "kernelspec": {
      "display_name": "Python 3",
      "language": "python",
      "name": "python3"
    },
    "language_info": {
      "codemirror_mode": {
        "name": "ipython",
        "version": 3
      },
      "file_extension": ".py",
      "mimetype": "text/x-python",
      "name": "python",
      "nbconvert_exporter": "python",
      "pygments_lexer": "ipython3",
      "version": "3.9.7"
    },
    "colab": {
      "provenance": [],
      "include_colab_link": true
    }
  },
  "nbformat": 4,
  "nbformat_minor": 5
}