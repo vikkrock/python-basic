{
  "cells": [
    {
      "cell_type": "markdown",
      "metadata": {
        "id": "view-in-github",
        "colab_type": "text"
      },
      "source": [
        "<a href=\"https://colab.research.google.com/github/vikkrock/python-basic/blob/main/sets_assignment.ipynb\" target=\"_parent\"><img src=\"https://colab.research.google.com/assets/colab-badge.svg\" alt=\"Open In Colab\"/></a>"
      ]
    },
    {
      "cell_type": "markdown",
      "metadata": {
        "id": "WJCPHtR_KHKu"
      },
      "source": [
        "# Module 3: Data Structures Assignments\n",
        "## Lesson 3.3: Sets\n",
        "\n",
        "\n",
        "\n",
        "\n"
      ],
      "id": "WJCPHtR_KHKu"
    },
    {
      "cell_type": "markdown",
      "source": [
        "### Assignment 1: Creating and Accessing Sets\n",
        "\n",
        "Create a set with the first 10 positive integers. Print the set."
      ],
      "metadata": {
        "id": "g03href1KZM_"
      },
      "id": "g03href1KZM_"
    },
    {
      "cell_type": "code",
      "execution_count": 1,
      "metadata": {
        "colab": {
          "base_uri": "https://localhost:8080/"
        },
        "id": "i4smyLIIKHK4",
        "outputId": "93852264-fdd5-4e56-ce88-6750e1275cd5"
      },
      "outputs": [
        {
          "output_type": "stream",
          "name": "stdout",
          "text": [
            "{1, 2, 3, 4, 5, 6, 7, 8, 9, 10}\n"
          ]
        }
      ],
      "source": [
        "a=set(range(1,11))\n",
        "print(a)"
      ],
      "id": "i4smyLIIKHK4"
    },
    {
      "cell_type": "markdown",
      "source": [
        "### Assignment 2: Adding and Removing Elements\n",
        "\n",
        "Add the number 11 to the set created in Assignment 1. Then remove the number 1 from the set. Print the modified set."
      ],
      "metadata": {
        "id": "gkTPe_CfKz1W"
      },
      "id": "gkTPe_CfKz1W"
    },
    {
      "cell_type": "code",
      "source": [
        "a.add(11)\n",
        "print(a)\n",
        "a.remove(1)\n",
        "print(a)"
      ],
      "metadata": {
        "colab": {
          "base_uri": "https://localhost:8080/"
        },
        "id": "PPBD1nXXK1Aq",
        "outputId": "d539e149-cdc2-41fe-c6a3-123c34316362"
      },
      "id": "PPBD1nXXK1Aq",
      "execution_count": 2,
      "outputs": [
        {
          "output_type": "stream",
          "name": "stdout",
          "text": [
            "{1, 2, 3, 4, 5, 6, 7, 8, 9, 10, 11}\n",
            "{2, 3, 4, 5, 6, 7, 8, 9, 10, 11}\n"
          ]
        }
      ]
    },
    {
      "cell_type": "markdown",
      "source": [
        "\n",
        "### Assignment 3: Set Operations\n",
        "\n",
        "Create two sets: one with the first 5 positive integers and another with the first 5 even integers. Perform and print the results of union, intersection, difference, and symmetric difference operations on these sets."
      ],
      "metadata": {
        "id": "ixrQgs50LLgc"
      },
      "id": "ixrQgs50LLgc"
    },
    {
      "cell_type": "code",
      "source": [
        "a=set(range(1,6))\n",
        "b=set(range(2,11,2))\n",
        "print(a.union(b))\n",
        "print(a.intersection(b))\n",
        "print(b.difference(a))\n",
        "print(a.symmetric_difference(b))"
      ],
      "metadata": {
        "colab": {
          "base_uri": "https://localhost:8080/"
        },
        "id": "PSpS_XPJLQEi",
        "outputId": "0f58f58e-983d-4ec2-98cb-287567b48f4d"
      },
      "id": "PSpS_XPJLQEi",
      "execution_count": 3,
      "outputs": [
        {
          "output_type": "stream",
          "name": "stdout",
          "text": [
            "{1, 2, 3, 4, 5, 6, 8, 10}\n",
            "{2, 4}\n",
            "{8, 10, 6}\n",
            "{1, 3, 5, 6, 8, 10}\n"
          ]
        }
      ]
    },
    {
      "cell_type": "markdown",
      "source": [
        "### Assignment 4: Set Comprehensions\n",
        "\n",
        "Create a new set containing the squares of the first 10 positive integers using a set comprehension. Print the new set."
      ],
      "metadata": {
        "id": "FOKi5zAlLztQ"
      },
      "id": "FOKi5zAlLztQ"
    },
    {
      "cell_type": "code",
      "source": [
        "a={x**2 for x in range(1, 11)}\n",
        "print(a)"
      ],
      "metadata": {
        "colab": {
          "base_uri": "https://localhost:8080/"
        },
        "id": "yJa1LspNL4lP",
        "outputId": "881bb16c-a1c3-4ea7-920b-791414303820"
      },
      "id": "yJa1LspNL4lP",
      "execution_count": 6,
      "outputs": [
        {
          "output_type": "stream",
          "name": "stdout",
          "text": [
            "{64, 1, 4, 36, 100, 9, 16, 49, 81, 25}\n"
          ]
        }
      ]
    },
    {
      "cell_type": "markdown",
      "source": [
        "### Assignment 5: Filtering Sets\n",
        "\n",
        "Create a new set containing only the even numbers from the set created in Assignment 1 using a set comprehension. Print the new set."
      ],
      "metadata": {
        "id": "53BMlmq4Mees"
      },
      "id": "53BMlmq4Mees"
    },
    {
      "cell_type": "code",
      "source": [
        "a=set(range(1,11))\n",
        "even={i for i in a if i%2==0}\n",
        "print(even)"
      ],
      "metadata": {
        "colab": {
          "base_uri": "https://localhost:8080/"
        },
        "id": "Dr0JeehWMjCX",
        "outputId": "e1d435fc-a158-477e-97c8-92c4cdaa8d7b"
      },
      "id": "Dr0JeehWMjCX",
      "execution_count": 7,
      "outputs": [
        {
          "output_type": "stream",
          "name": "stdout",
          "text": [
            "{2, 4, 6, 8, 10}\n"
          ]
        }
      ]
    },
    {
      "cell_type": "markdown",
      "source": [
        "\n",
        "### Assignment 6: Set Methods\n",
        "\n",
        "Create a set with duplicate elements and remove the duplicates using set methods. Print the modified set."
      ],
      "metadata": {
        "id": "lICmZ7PEM54c"
      },
      "id": "lICmZ7PEM54c"
    },
    {
      "cell_type": "code",
      "source": [
        "s = {1, 2, 2, 3, 4, 4, 5}\n",
        "unique_s = set(s)\n",
        "print(unique_s)"
      ],
      "metadata": {
        "colab": {
          "base_uri": "https://localhost:8080/"
        },
        "id": "s4Wpz_AdM_AV",
        "outputId": "dc8c0e17-58a9-4acf-e7ef-52842a0a253d"
      },
      "id": "s4Wpz_AdM_AV",
      "execution_count": 8,
      "outputs": [
        {
          "output_type": "stream",
          "name": "stdout",
          "text": [
            "{1, 2, 3, 4, 5}\n"
          ]
        }
      ]
    },
    {
      "cell_type": "markdown",
      "source": [
        "### Assignment 7: Subsets and Supersets\n",
        "\n",
        "Create two sets: one with the first 5 positive integers and another with the first 3 positive integers. Check if the second set is a subset of the first set and if the first set is a superset of the second set. Print the results."
      ],
      "metadata": {
        "id": "t50iTLjXNK0C"
      },
      "id": "t50iTLjXNK0C"
    },
    {
      "cell_type": "code",
      "source": [
        "a=set(range(1,6))\n",
        "b=set(range(1,4))\n",
        "print(b.issubset(a))\n",
        "print(a.issuperset(b))"
      ],
      "metadata": {
        "colab": {
          "base_uri": "https://localhost:8080/"
        },
        "id": "0N280lvpNL01",
        "outputId": "270a67ef-7be8-4643-a8cd-a4ff4455f75a"
      },
      "id": "0N280lvpNL01",
      "execution_count": 9,
      "outputs": [
        {
          "output_type": "stream",
          "name": "stdout",
          "text": [
            "True\n",
            "True\n"
          ]
        }
      ]
    },
    {
      "cell_type": "markdown",
      "source": [
        "### Assignment 8: Frozenset\n",
        "\n",
        "Create a frozenset with the first 5 positive integers. Print the frozenset."
      ],
      "metadata": {
        "id": "4jkyNP_XNyAZ"
      },
      "id": "4jkyNP_XNyAZ"
    },
    {
      "cell_type": "code",
      "source": [
        "fs = frozenset(range(1, 6))\n",
        "print(fs)"
      ],
      "metadata": {
        "colab": {
          "base_uri": "https://localhost:8080/"
        },
        "id": "p2Kw1z9QN3BW",
        "outputId": "bfffd087-5ce9-430c-8ad6-db7632404a58"
      },
      "id": "p2Kw1z9QN3BW",
      "execution_count": 10,
      "outputs": [
        {
          "output_type": "stream",
          "name": "stdout",
          "text": [
            "frozenset({1, 2, 3, 4, 5})\n"
          ]
        }
      ]
    },
    {
      "cell_type": "markdown",
      "source": [
        "### Assignment 9: Set and List Conversion\n",
        "\n",
        "Create a set with the first 5 positive integers. Convert it to a list, append the number 6, and convert it back to a set. Print the resulting set."
      ],
      "metadata": {
        "id": "ohAAVb7rOAtd"
      },
      "id": "ohAAVb7rOAtd"
    },
    {
      "cell_type": "code",
      "source": [
        "a=set(range(1,6))\n",
        "a=list(a)\n",
        "a.append(6)\n",
        "print(set(a))"
      ],
      "metadata": {
        "colab": {
          "base_uri": "https://localhost:8080/"
        },
        "id": "bgaVumhDOBnT",
        "outputId": "be341832-15e3-444f-dd4e-4ed534d72763"
      },
      "id": "bgaVumhDOBnT",
      "execution_count": 11,
      "outputs": [
        {
          "output_type": "stream",
          "name": "stdout",
          "text": [
            "{1, 2, 3, 4, 5, 6}\n"
          ]
        }
      ]
    },
    {
      "cell_type": "markdown",
      "source": [
        "\n",
        "### Assignment 10: Set and Dictionary\n",
        "\n",
        "Create a dictionary with set keys and integer values. Print the dictionary."
      ],
      "metadata": {
        "id": "6V_8G0U2OYk3"
      },
      "id": "6V_8G0U2OYk3"
    },
    {
      "cell_type": "code",
      "source": [
        "d = {\n",
        "    frozenset({1, 2}): 3,\n",
        "    frozenset({3, 4}): 7,\n",
        "    frozenset({5, 6}): 11\n",
        "}\n",
        "print(d)"
      ],
      "metadata": {
        "colab": {
          "base_uri": "https://localhost:8080/"
        },
        "id": "zbTkHi-eOhFQ",
        "outputId": "0661e911-c343-41b2-dfd5-f76c48304d69"
      },
      "id": "zbTkHi-eOhFQ",
      "execution_count": 12,
      "outputs": [
        {
          "output_type": "stream",
          "name": "stdout",
          "text": [
            "{frozenset({1, 2}): 3, frozenset({3, 4}): 7, frozenset({5, 6}): 11}\n"
          ]
        }
      ]
    },
    {
      "cell_type": "markdown",
      "source": [
        "\n",
        "### Assignment 11: Iterating Over Sets\n",
        "\n",
        "Create a set and iterate over the elements, printing each element."
      ],
      "metadata": {
        "id": "srYj5a1lOpoQ"
      },
      "id": "srYj5a1lOpoQ"
    },
    {
      "cell_type": "code",
      "source": [
        "s = set(range(1, 6))\n",
        "for elem in s:\n",
        "    print(elem)"
      ],
      "metadata": {
        "colab": {
          "base_uri": "https://localhost:8080/"
        },
        "id": "1SsrkMjyOvcU",
        "outputId": "c8bc3e1a-9363-4a59-c6a1-6541d49b388d"
      },
      "id": "1SsrkMjyOvcU",
      "execution_count": 13,
      "outputs": [
        {
          "output_type": "stream",
          "name": "stdout",
          "text": [
            "1\n",
            "2\n",
            "3\n",
            "4\n",
            "5\n"
          ]
        }
      ]
    },
    {
      "cell_type": "markdown",
      "source": [
        "### Assignment 12: Removing Elements from Sets\n",
        "\n",
        "Create a set and remove elements from it until it is empty. Print the set after each removal.\n"
      ],
      "metadata": {
        "id": "ApKls0ecOz3W"
      },
      "id": "ApKls0ecOz3W"
    },
    {
      "cell_type": "code",
      "source": [
        "a=set(range(1,6))\n",
        "while a:\n",
        "  a.pop()\n",
        "  print(a)"
      ],
      "metadata": {
        "colab": {
          "base_uri": "https://localhost:8080/"
        },
        "id": "vGV9TQEEO37O",
        "outputId": "7ed32ad8-7a0d-4f8c-b83a-483b1af02a7b"
      },
      "id": "vGV9TQEEO37O",
      "execution_count": 14,
      "outputs": [
        {
          "output_type": "stream",
          "name": "stdout",
          "text": [
            "{2, 3, 4, 5}\n",
            "{3, 4, 5}\n",
            "{4, 5}\n",
            "{5}\n",
            "set()\n"
          ]
        }
      ]
    },
    {
      "cell_type": "markdown",
      "source": [
        "\n",
        "### Assignment 13: Set Symmetric Difference Update\n",
        "\n",
        "Create two sets and update the first set with the symmetric difference of the two sets. Print the modified first set."
      ],
      "metadata": {
        "id": "a0N7ppCJPJ2Q"
      },
      "id": "a0N7ppCJPJ2Q"
    },
    {
      "cell_type": "code",
      "source": [
        "set1 = {1, 2, 3}\n",
        "set2 = {3, 4, 5}\n",
        "set1.symmetric_difference_update(set2)\n",
        "print(set1)"
      ],
      "metadata": {
        "colab": {
          "base_uri": "https://localhost:8080/"
        },
        "id": "z-r6gMNOPOAa",
        "outputId": "fde9c5e0-f779-4d67-8733-c7bfcf28a6d0"
      },
      "id": "z-r6gMNOPOAa",
      "execution_count": 15,
      "outputs": [
        {
          "output_type": "stream",
          "name": "stdout",
          "text": [
            "{1, 2, 4, 5}\n"
          ]
        }
      ]
    },
    {
      "cell_type": "markdown",
      "source": [
        "\n",
        "### Assignment 14: Set Membership Testing\n",
        "\n",
        "Create a set and test if certain elements are present in the set. Print the results.\n",
        "\n"
      ],
      "metadata": {
        "id": "cdFhX19PPdfg"
      },
      "id": "cdFhX19PPdfg"
    },
    {
      "cell_type": "code",
      "source": [
        "s = set(range(1, 6))\n",
        "print(3 in s)\n",
        "print(6 in s)"
      ],
      "metadata": {
        "colab": {
          "base_uri": "https://localhost:8080/"
        },
        "id": "majOXr3DPc2g",
        "outputId": "438b3488-e34b-48ee-85f1-8cd83c158abc"
      },
      "id": "majOXr3DPc2g",
      "execution_count": 16,
      "outputs": [
        {
          "output_type": "stream",
          "name": "stdout",
          "text": [
            "True\n",
            "False\n"
          ]
        }
      ]
    },
    {
      "cell_type": "markdown",
      "source": [
        "### Assignment 15: Set of Tuples\n",
        "\n",
        "Create a set containing tuples, where each tuple contains two elements. Print the set."
      ],
      "metadata": {
        "id": "gk8gu7_EPfXL"
      },
      "id": "gk8gu7_EPfXL"
    },
    {
      "cell_type": "code",
      "source": [
        "s = { (1, 2), (3, 4), (5, 6) }\n",
        "print(s)"
      ],
      "metadata": {
        "id": "AOopgJEpPkgZ",
        "outputId": "7585516c-8dd0-45fb-964e-41d16692e776",
        "colab": {
          "base_uri": "https://localhost:8080/"
        }
      },
      "id": "AOopgJEpPkgZ",
      "execution_count": 17,
      "outputs": [
        {
          "output_type": "stream",
          "name": "stdout",
          "text": [
            "{(1, 2), (3, 4), (5, 6)}\n"
          ]
        }
      ]
    }
  ],
  "metadata": {
    "kernelspec": {
      "display_name": "Python 3",
      "language": "python",
      "name": "python3"
    },
    "language_info": {
      "codemirror_mode": {
        "name": "ipython",
        "version": 3
      },
      "file_extension": ".py",
      "mimetype": "text/x-python",
      "name": "python",
      "nbconvert_exporter": "python",
      "pygments_lexer": "ipython3",
      "version": "3.9.7"
    },
    "colab": {
      "provenance": [],
      "include_colab_link": true
    }
  },
  "nbformat": 4,
  "nbformat_minor": 5
}